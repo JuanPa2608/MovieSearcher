{
 "cells": [
  {
   "cell_type": "markdown",
   "metadata": {},
   "source": [
    "<b>Ingesta de Datos</b>"
   ]
  },
  {
   "cell_type": "code",
   "execution_count": 1,
   "metadata": {},
   "outputs": [],
   "source": [
    "import json\n",
    "import gzip\n",
    "import pandas as pd\n",
    "import ast\n",
    "import pdb\n",
    "import numpy as np\n",
    "from datetime import datetime as dt"
   ]
  },
  {
   "cell_type": "code",
   "execution_count": 2,
   "metadata": {},
   "outputs": [],
   "source": [
    "# Codigo de extraccion de datos de users_items, tambien desanida la columna items\n",
    "datos = []\n",
    "def items_reader(archive):\n",
    "    try: \n",
    "        # Abre el archivo en modo lectura de texto\n",
    "        with open(archive, 'r',encoding='utf-8') as file:\n",
    "            try:\n",
    "                for line in file:\n",
    "                    try:\n",
    "                        # Convierte cada línea JSON en un diccionario de Python\n",
    "                        dato_raw = ast.literal_eval(line.strip()) \n",
    "                        \n",
    "                        if dato_raw:\n",
    "                            #[dato_raw['user_id'],dato_raw['items_count'],dato_raw['steam_id']]\n",
    "                            for item_data in dato_raw['items']:\n",
    "                                datos.append([dato_raw['user_id'],dato_raw['items_count'],dato_raw['steam_id'],item_data['item_id'],item_data['item_name'],item_data['playtime_forever']])\n",
    "                    except:\n",
    "                        print(f\"Error al cargar JSON en la línea:\")\n",
    "                        pdb.set_trace()\n",
    "            except UnicodeDecodeError as e :                \n",
    "                print(e)      \n",
    "                pdb.set_trace()\n",
    "\n",
    "    except FileNotFoundError:\n",
    "        print(f\"El archivo {archive} no fue encontrado.\")\n",
    "        \n",
    "    df = pd.DataFrame(datos,columns=['user_id','items_count','steam_id','item_id','item_name','playtime_forever'])\n",
    "    df.head(5)\n",
    "    return df"
   ]
  },
  {
   "cell_type": "code",
   "execution_count": 3,
   "metadata": {},
   "outputs": [
    {
     "name": "stdout",
     "output_type": "stream",
     "text": [
      "<class 'pandas.core.frame.DataFrame'>\n",
      "RangeIndex: 5153209 entries, 0 to 5153208\n",
      "Data columns (total 6 columns):\n",
      " #   Column            Dtype \n",
      "---  ------            ----- \n",
      " 0   user_id           object\n",
      " 1   items_count       int64 \n",
      " 2   steam_id          object\n",
      " 3   item_id           object\n",
      " 4   item_name         object\n",
      " 5   playtime_forever  int64 \n",
      "dtypes: int64(2), object(4)\n",
      "memory usage: 235.9+ MB\n"
     ]
    }
   ],
   "source": [
    "items_archive = \"..\\\\datasets\\\\australian_users_items.json\"\n",
    "df_items = items_reader(items_archive)\n",
    "df_items.info()"
   ]
  },
  {
   "cell_type": "code",
   "execution_count": 4,
   "metadata": {},
   "outputs": [
    {
     "data": {
      "text/html": [
       "<div>\n",
       "<style scoped>\n",
       "    .dataframe tbody tr th:only-of-type {\n",
       "        vertical-align: middle;\n",
       "    }\n",
       "\n",
       "    .dataframe tbody tr th {\n",
       "        vertical-align: top;\n",
       "    }\n",
       "\n",
       "    .dataframe thead th {\n",
       "        text-align: right;\n",
       "    }\n",
       "</style>\n",
       "<table border=\"1\" class=\"dataframe\">\n",
       "  <thead>\n",
       "    <tr style=\"text-align: right;\">\n",
       "      <th></th>\n",
       "      <th>user_id</th>\n",
       "      <th>items_count</th>\n",
       "      <th>steam_id</th>\n",
       "      <th>item_id</th>\n",
       "      <th>item_name</th>\n",
       "      <th>playtime_forever</th>\n",
       "    </tr>\n",
       "  </thead>\n",
       "  <tbody>\n",
       "    <tr>\n",
       "      <th>0</th>\n",
       "      <td>76561197970982479</td>\n",
       "      <td>277</td>\n",
       "      <td>76561197970982479</td>\n",
       "      <td>10</td>\n",
       "      <td>Counter-Strike</td>\n",
       "      <td>6</td>\n",
       "    </tr>\n",
       "    <tr>\n",
       "      <th>1</th>\n",
       "      <td>76561197970982479</td>\n",
       "      <td>277</td>\n",
       "      <td>76561197970982479</td>\n",
       "      <td>20</td>\n",
       "      <td>Team Fortress Classic</td>\n",
       "      <td>0</td>\n",
       "    </tr>\n",
       "    <tr>\n",
       "      <th>2</th>\n",
       "      <td>76561197970982479</td>\n",
       "      <td>277</td>\n",
       "      <td>76561197970982479</td>\n",
       "      <td>30</td>\n",
       "      <td>Day of Defeat</td>\n",
       "      <td>7</td>\n",
       "    </tr>\n",
       "  </tbody>\n",
       "</table>\n",
       "</div>"
      ],
      "text/plain": [
       "             user_id  items_count           steam_id item_id  \\\n",
       "0  76561197970982479          277  76561197970982479      10   \n",
       "1  76561197970982479          277  76561197970982479      20   \n",
       "2  76561197970982479          277  76561197970982479      30   \n",
       "\n",
       "               item_name  playtime_forever  \n",
       "0         Counter-Strike                 6  \n",
       "1  Team Fortress Classic                 0  \n",
       "2          Day of Defeat                 7  "
      ]
     },
     "execution_count": 4,
     "metadata": {},
     "output_type": "execute_result"
    }
   ],
   "source": [
    "df_items.head(3)"
   ]
  },
  {
   "cell_type": "code",
   "execution_count": 5,
   "metadata": {},
   "outputs": [],
   "source": [
    "# Codigo de extraccion de datos de users_reviews, tambien desanida la columna reviews\n",
    "datos = []\n",
    "def reviews_reader(archive):\n",
    "    try: \n",
    "        # Abre el archivo en modo lectura de texto\n",
    "        with open(archive, 'r',encoding='utf-8') as file:\n",
    "            try:\n",
    "                for line in file:\n",
    "                    try:\n",
    "                        # Convierte cada línea JSON en un diccionario de Python\n",
    "                        dato_raw = ast.literal_eval(line.strip()) \n",
    "                        \n",
    "                        if dato_raw:\n",
    "                            #[dato_raw['user_id'],dato_raw['items_count'],dato_raw['steam_id']]\n",
    "                            for review_data in dato_raw['reviews']:\n",
    "                                #pdb.set_trace()\n",
    "                                try:\n",
    "                                    fecha = dt.strptime(review_data['posted'],'Posted %B %d, %Y.')\n",
    "                                    datos.append([dato_raw['user_id'],review_data['item_id'],review_data['recommend'],review_data['review'],fecha.year])\n",
    "                                except:\n",
    "                                    pass\n",
    "                    except:\n",
    "                        pdb.set_trace()\n",
    "                        print(f\"Error al cargar JSON en la línea:\")\n",
    "            except UnicodeDecodeError as e :\n",
    "                print(e)      \n",
    "\n",
    "    except FileNotFoundError:\n",
    "        print(f\"El archivo {archive} no fue encontrado.\")\n",
    "        \n",
    "    df = pd.DataFrame(datos,columns=['user_id','item_id','recommend','review','year_posted'])\n",
    "    df.head(100)\n",
    "    return df"
   ]
  },
  {
   "cell_type": "code",
   "execution_count": 6,
   "metadata": {},
   "outputs": [
    {
     "name": "stdout",
     "output_type": "stream",
     "text": [
      "<class 'pandas.core.frame.DataFrame'>\n",
      "RangeIndex: 49186 entries, 0 to 49185\n",
      "Data columns (total 5 columns):\n",
      " #   Column       Non-Null Count  Dtype \n",
      "---  ------       --------------  ----- \n",
      " 0   user_id      49186 non-null  object\n",
      " 1   item_id      49186 non-null  object\n",
      " 2   recommend    49186 non-null  bool  \n",
      " 3   review       49186 non-null  object\n",
      " 4   year_posted  49186 non-null  int64 \n",
      "dtypes: bool(1), int64(1), object(3)\n",
      "memory usage: 1.5+ MB\n"
     ]
    }
   ],
   "source": [
    "reviews_archive = \"..\\\\datasets\\\\australian_user_reviews.json\"\n",
    "df_reviews = reviews_reader(reviews_archive)\n",
    "df_reviews.info()"
   ]
  },
  {
   "cell_type": "code",
   "execution_count": 7,
   "metadata": {},
   "outputs": [
    {
     "data": {
      "text/html": [
       "<div>\n",
       "<style scoped>\n",
       "    .dataframe tbody tr th:only-of-type {\n",
       "        vertical-align: middle;\n",
       "    }\n",
       "\n",
       "    .dataframe tbody tr th {\n",
       "        vertical-align: top;\n",
       "    }\n",
       "\n",
       "    .dataframe thead th {\n",
       "        text-align: right;\n",
       "    }\n",
       "</style>\n",
       "<table border=\"1\" class=\"dataframe\">\n",
       "  <thead>\n",
       "    <tr style=\"text-align: right;\">\n",
       "      <th></th>\n",
       "      <th>user_id</th>\n",
       "      <th>item_id</th>\n",
       "      <th>recommend</th>\n",
       "      <th>review</th>\n",
       "      <th>year_posted</th>\n",
       "    </tr>\n",
       "  </thead>\n",
       "  <tbody>\n",
       "    <tr>\n",
       "      <th>0</th>\n",
       "      <td>76561197970982479</td>\n",
       "      <td>1250</td>\n",
       "      <td>True</td>\n",
       "      <td>Simple yet with great replayability. In my opi...</td>\n",
       "      <td>2011</td>\n",
       "    </tr>\n",
       "    <tr>\n",
       "      <th>1</th>\n",
       "      <td>76561197970982479</td>\n",
       "      <td>22200</td>\n",
       "      <td>True</td>\n",
       "      <td>It's unique and worth a playthrough.</td>\n",
       "      <td>2011</td>\n",
       "    </tr>\n",
       "    <tr>\n",
       "      <th>2</th>\n",
       "      <td>76561197970982479</td>\n",
       "      <td>43110</td>\n",
       "      <td>True</td>\n",
       "      <td>Great atmosphere. The gunplay can be a bit chu...</td>\n",
       "      <td>2011</td>\n",
       "    </tr>\n",
       "  </tbody>\n",
       "</table>\n",
       "</div>"
      ],
      "text/plain": [
       "             user_id item_id  recommend  \\\n",
       "0  76561197970982479    1250       True   \n",
       "1  76561197970982479   22200       True   \n",
       "2  76561197970982479   43110       True   \n",
       "\n",
       "                                              review  year_posted  \n",
       "0  Simple yet with great replayability. In my opi...         2011  \n",
       "1               It's unique and worth a playthrough.         2011  \n",
       "2  Great atmosphere. The gunplay can be a bit chu...         2011  "
      ]
     },
     "execution_count": 7,
     "metadata": {},
     "output_type": "execute_result"
    }
   ],
   "source": [
    "df_reviews.head(3)"
   ]
  },
  {
   "cell_type": "code",
   "execution_count": 8,
   "metadata": {},
   "outputs": [
    {
     "name": "stderr",
     "output_type": "stream",
     "text": [
      "C:\\Users\\DELL\\AppData\\Local\\Temp\\ipykernel_6940\\1306178328.py:11: UserWarning: Parsing dates in %d.%m.%Y format when dayfirst=False (the default) was specified. Pass `dayfirst=True` or specify a format to silence this warning.\n",
      "  obj['release_year'] = pd.to_datetime(obj['release_date']).year\n"
     ]
    }
   ],
   "source": [
    "# Codigo de extraccion de datos de steam\n",
    "archive_steam = \"..\\\\datasets\\\\steam_games.json.gz\"\n",
    "#anio = df_steam.apply(pd.to_datetime, axis=1)\n",
    "data = []\n",
    "\n",
    "with gzip.open(archive_steam, 'rt', encoding='utf-8') as file:\n",
    "    for line in file:\n",
    "        try:\n",
    "            obj = json.loads(line.strip())\n",
    "            try:\n",
    "                obj['release_year'] = pd.to_datetime(obj['release_date']).year\n",
    "            except:\n",
    "                obj['release_year'] = np.nan\n",
    "                \n",
    "            data.append(obj)\n",
    "        except json.JSONDecodeError as e:\n",
    "            print(f\"Error al decodificar JSON en línea: {line.strip()}\")\n",
    "            pdb.set_trace()\n",
    "            print(str(e))\n",
    "\n",
    "# Creo un DataFrame a partir de los datos\n",
    "df_steam = pd.DataFrame(data)\n"
   ]
  },
  {
   "cell_type": "code",
   "execution_count": 9,
   "metadata": {},
   "outputs": [
    {
     "data": {
      "text/html": [
       "<div>\n",
       "<style scoped>\n",
       "    .dataframe tbody tr th:only-of-type {\n",
       "        vertical-align: middle;\n",
       "    }\n",
       "\n",
       "    .dataframe tbody tr th {\n",
       "        vertical-align: top;\n",
       "    }\n",
       "\n",
       "    .dataframe thead th {\n",
       "        text-align: right;\n",
       "    }\n",
       "</style>\n",
       "<table border=\"1\" class=\"dataframe\">\n",
       "  <thead>\n",
       "    <tr style=\"text-align: right;\">\n",
       "      <th></th>\n",
       "      <th>publisher</th>\n",
       "      <th>genres</th>\n",
       "      <th>app_name</th>\n",
       "      <th>title</th>\n",
       "      <th>url</th>\n",
       "      <th>release_date</th>\n",
       "      <th>tags</th>\n",
       "      <th>reviews_url</th>\n",
       "      <th>specs</th>\n",
       "      <th>price</th>\n",
       "      <th>early_access</th>\n",
       "      <th>id</th>\n",
       "      <th>developer</th>\n",
       "      <th>release_year</th>\n",
       "    </tr>\n",
       "  </thead>\n",
       "  <tbody>\n",
       "    <tr>\n",
       "      <th>120442</th>\n",
       "      <td>Laush Studio</td>\n",
       "      <td>[Indie, Racing, Simulation]</td>\n",
       "      <td>Russian Roads</td>\n",
       "      <td>Russian Roads</td>\n",
       "      <td>http://store.steampowered.com/app/610660/Russi...</td>\n",
       "      <td>2018-01-04</td>\n",
       "      <td>[Indie, Simulation, Racing]</td>\n",
       "      <td>http://steamcommunity.com/app/610660/reviews/?...</td>\n",
       "      <td>[Single-player, Steam Achievements, Steam Trad...</td>\n",
       "      <td>1.99</td>\n",
       "      <td>False</td>\n",
       "      <td>610660</td>\n",
       "      <td>Laush Dmitriy Sergeevich</td>\n",
       "      <td>2018.0</td>\n",
       "    </tr>\n",
       "    <tr>\n",
       "      <th>120443</th>\n",
       "      <td>SIXNAILS</td>\n",
       "      <td>[Casual, Indie]</td>\n",
       "      <td>EXIT 2 - Directions</td>\n",
       "      <td>EXIT 2 - Directions</td>\n",
       "      <td>http://store.steampowered.com/app/658870/EXIT_...</td>\n",
       "      <td>2017-09-02</td>\n",
       "      <td>[Indie, Casual, Puzzle, Singleplayer, Atmosphe...</td>\n",
       "      <td>http://steamcommunity.com/app/658870/reviews/?...</td>\n",
       "      <td>[Single-player, Steam Achievements, Steam Cloud]</td>\n",
       "      <td>4.99</td>\n",
       "      <td>False</td>\n",
       "      <td>658870</td>\n",
       "      <td>xropi,stev3ns</td>\n",
       "      <td>2017.0</td>\n",
       "    </tr>\n",
       "    <tr>\n",
       "      <th>120444</th>\n",
       "      <td>NaN</td>\n",
       "      <td>NaN</td>\n",
       "      <td>Maze Run VR</td>\n",
       "      <td>NaN</td>\n",
       "      <td>http://store.steampowered.com/app/681550/Maze_...</td>\n",
       "      <td>NaN</td>\n",
       "      <td>[Early Access, Adventure, Indie, Action, Simul...</td>\n",
       "      <td>http://steamcommunity.com/app/681550/reviews/?...</td>\n",
       "      <td>[Single-player, Stats, Steam Leaderboards, HTC...</td>\n",
       "      <td>4.99</td>\n",
       "      <td>True</td>\n",
       "      <td>681550</td>\n",
       "      <td>NaN</td>\n",
       "      <td>NaN</td>\n",
       "    </tr>\n",
       "  </tbody>\n",
       "</table>\n",
       "</div>"
      ],
      "text/plain": [
       "           publisher                       genres             app_name  \\\n",
       "120442  Laush Studio  [Indie, Racing, Simulation]        Russian Roads   \n",
       "120443      SIXNAILS              [Casual, Indie]  EXIT 2 - Directions   \n",
       "120444           NaN                          NaN          Maze Run VR   \n",
       "\n",
       "                      title  \\\n",
       "120442        Russian Roads   \n",
       "120443  EXIT 2 - Directions   \n",
       "120444                  NaN   \n",
       "\n",
       "                                                      url release_date  \\\n",
       "120442  http://store.steampowered.com/app/610660/Russi...   2018-01-04   \n",
       "120443  http://store.steampowered.com/app/658870/EXIT_...   2017-09-02   \n",
       "120444  http://store.steampowered.com/app/681550/Maze_...          NaN   \n",
       "\n",
       "                                                     tags  \\\n",
       "120442                        [Indie, Simulation, Racing]   \n",
       "120443  [Indie, Casual, Puzzle, Singleplayer, Atmosphe...   \n",
       "120444  [Early Access, Adventure, Indie, Action, Simul...   \n",
       "\n",
       "                                              reviews_url  \\\n",
       "120442  http://steamcommunity.com/app/610660/reviews/?...   \n",
       "120443  http://steamcommunity.com/app/658870/reviews/?...   \n",
       "120444  http://steamcommunity.com/app/681550/reviews/?...   \n",
       "\n",
       "                                                    specs price early_access  \\\n",
       "120442  [Single-player, Steam Achievements, Steam Trad...  1.99        False   \n",
       "120443   [Single-player, Steam Achievements, Steam Cloud]  4.99        False   \n",
       "120444  [Single-player, Stats, Steam Leaderboards, HTC...  4.99         True   \n",
       "\n",
       "            id                 developer  release_year  \n",
       "120442  610660  Laush Dmitriy Sergeevich        2018.0  \n",
       "120443  658870             xropi,stev3ns        2017.0  \n",
       "120444  681550                       NaN           NaN  "
      ]
     },
     "execution_count": 9,
     "metadata": {},
     "output_type": "execute_result"
    }
   ],
   "source": [
    "df_steam.tail(3)"
   ]
  },
  {
   "cell_type": "code",
   "execution_count": 10,
   "metadata": {},
   "outputs": [
    {
     "name": "stdout",
     "output_type": "stream",
     "text": [
      "<class 'pandas.core.frame.DataFrame'>\n",
      "RangeIndex: 120445 entries, 0 to 120444\n",
      "Data columns (total 14 columns):\n",
      " #   Column        Non-Null Count  Dtype  \n",
      "---  ------        --------------  -----  \n",
      " 0   publisher     24083 non-null  object \n",
      " 1   genres        28852 non-null  object \n",
      " 2   app_name      32133 non-null  object \n",
      " 3   title         30085 non-null  object \n",
      " 4   url           32135 non-null  object \n",
      " 5   release_date  30068 non-null  object \n",
      " 6   tags          31972 non-null  object \n",
      " 7   reviews_url   32133 non-null  object \n",
      " 8   specs         31465 non-null  object \n",
      " 9   price         30758 non-null  object \n",
      " 10  early_access  32135 non-null  object \n",
      " 11  id            32133 non-null  object \n",
      " 12  developer     28836 non-null  object \n",
      " 13  release_year  29894 non-null  float64\n",
      "dtypes: float64(1), object(13)\n",
      "memory usage: 12.9+ MB\n"
     ]
    }
   ],
   "source": [
    "df_steam.info()"
   ]
  },
  {
   "cell_type": "markdown",
   "metadata": {},
   "source": [
    "<b>Guardar dataframes </b>"
   ]
  },
  {
   "cell_type": "code",
   "execution_count": 11,
   "metadata": {},
   "outputs": [],
   "source": [
    "df_steam.to_csv('..\\\\datasets\\\\New_datasets\\\\user_steams.csv',index=False)\n",
    "df_items.to_parquet('..\\\\datasets\\\\New_datasets\\\\user_items.parquet',index=False)\n",
    "df_reviews.to_parquet('..\\\\datasets\\\\New_datasets\\\\user_reviews.parquet',index=False)"
   ]
  }
 ],
 "metadata": {
  "kernelspec": {
   "display_name": "Python 3",
   "language": "python",
   "name": "python3"
  },
  "language_info": {
   "codemirror_mode": {
    "name": "ipython",
    "version": 3
   },
   "file_extension": ".py",
   "mimetype": "text/x-python",
   "name": "python",
   "nbconvert_exporter": "python",
   "pygments_lexer": "ipython3",
   "version": "3.11.5"
  },
  "orig_nbformat": 4
 },
 "nbformat": 4,
 "nbformat_minor": 2
}
