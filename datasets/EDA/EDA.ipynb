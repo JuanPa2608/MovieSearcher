{
 "cells": [
  {
   "cell_type": "markdown",
   "metadata": {},
   "source": [
    "<center><b>Análisis Explatorio de Datos (EDA)<b><center>"
   ]
  },
  {
   "cell_type": "code",
   "execution_count": 1,
   "metadata": {},
   "outputs": [],
   "source": [
    "# Importacion de librerias\n",
    "import pandas as pd\n",
    "import seaborn as sns\n",
    "import matplotlib.pyplot as plt"
   ]
  },
  {
   "cell_type": "markdown",
   "metadata": {},
   "source": [
    "<b>EDA PlayTimeGenre<b>"
   ]
  },
  {
   "cell_type": "code",
   "execution_count": 2,
   "metadata": {},
   "outputs": [],
   "source": [
    "# Carga de dataset PlayTimeGenre\n",
    "df_PlayTimeGenre = pd.read_parquet('..\\\\Funciones\\\\datasets\\\\PlayTimeGenre.parquet')"
   ]
  },
  {
   "cell_type": "code",
   "execution_count": 3,
   "metadata": {},
   "outputs": [
    {
     "data": {
      "text/html": [
       "<div>\n",
       "<style scoped>\n",
       "    .dataframe tbody tr th:only-of-type {\n",
       "        vertical-align: middle;\n",
       "    }\n",
       "\n",
       "    .dataframe tbody tr th {\n",
       "        vertical-align: top;\n",
       "    }\n",
       "\n",
       "    .dataframe thead th {\n",
       "        text-align: right;\n",
       "    }\n",
       "</style>\n",
       "<table border=\"1\" class=\"dataframe\">\n",
       "  <thead>\n",
       "    <tr style=\"text-align: right;\">\n",
       "      <th></th>\n",
       "      <th>genres</th>\n",
       "      <th>release_year</th>\n",
       "      <th>Sum_playtime_forever</th>\n",
       "    </tr>\n",
       "  </thead>\n",
       "  <tbody>\n",
       "    <tr>\n",
       "      <th>0</th>\n",
       "      <td>Action</td>\n",
       "      <td>1997.0</td>\n",
       "      <td>271013</td>\n",
       "    </tr>\n",
       "    <tr>\n",
       "      <th>1</th>\n",
       "      <td>Indie</td>\n",
       "      <td>1997.0</td>\n",
       "      <td>64814</td>\n",
       "    </tr>\n",
       "    <tr>\n",
       "      <th>2</th>\n",
       "      <td>Racing</td>\n",
       "      <td>1997.0</td>\n",
       "      <td>9319</td>\n",
       "    </tr>\n",
       "    <tr>\n",
       "      <th>3</th>\n",
       "      <td>Action</td>\n",
       "      <td>1998.0</td>\n",
       "      <td>2809535</td>\n",
       "    </tr>\n",
       "    <tr>\n",
       "      <th>4</th>\n",
       "      <td>Strategy</td>\n",
       "      <td>2006.0</td>\n",
       "      <td>3683704</td>\n",
       "    </tr>\n",
       "  </tbody>\n",
       "</table>\n",
       "</div>"
      ],
      "text/plain": [
       "     genres  release_year  Sum_playtime_forever\n",
       "0    Action        1997.0                271013\n",
       "1     Indie        1997.0                 64814\n",
       "2    Racing        1997.0                  9319\n",
       "3    Action        1998.0               2809535\n",
       "4  Strategy        2006.0               3683704"
      ]
     },
     "execution_count": 3,
     "metadata": {},
     "output_type": "execute_result"
    }
   ],
   "source": [
    "df_PlayTimeGenre.head()"
   ]
  },
  {
   "cell_type": "code",
   "execution_count": 4,
   "metadata": {},
   "outputs": [
    {
     "data": {
      "text/html": [
       "<div>\n",
       "<style scoped>\n",
       "    .dataframe tbody tr th:only-of-type {\n",
       "        vertical-align: middle;\n",
       "    }\n",
       "\n",
       "    .dataframe tbody tr th {\n",
       "        vertical-align: top;\n",
       "    }\n",
       "\n",
       "    .dataframe thead th {\n",
       "        text-align: right;\n",
       "    }\n",
       "</style>\n",
       "<table border=\"1\" class=\"dataframe\">\n",
       "  <thead>\n",
       "    <tr style=\"text-align: right;\">\n",
       "      <th></th>\n",
       "      <th>release_year</th>\n",
       "      <th>Sum_playtime_forever</th>\n",
       "    </tr>\n",
       "  </thead>\n",
       "  <tbody>\n",
       "    <tr>\n",
       "      <th>count</th>\n",
       "      <td>341.000000</td>\n",
       "      <td>3.410000e+02</td>\n",
       "    </tr>\n",
       "    <tr>\n",
       "      <th>mean</th>\n",
       "      <td>2005.888563</td>\n",
       "      <td>2.461815e+07</td>\n",
       "    </tr>\n",
       "    <tr>\n",
       "      <th>std</th>\n",
       "      <td>8.980987</td>\n",
       "      <td>7.946313e+07</td>\n",
       "    </tr>\n",
       "    <tr>\n",
       "      <th>min</th>\n",
       "      <td>1983.000000</td>\n",
       "      <td>0.000000e+00</td>\n",
       "    </tr>\n",
       "    <tr>\n",
       "      <th>25%</th>\n",
       "      <td>1999.000000</td>\n",
       "      <td>6.419000e+03</td>\n",
       "    </tr>\n",
       "    <tr>\n",
       "      <th>50%</th>\n",
       "      <td>2008.000000</td>\n",
       "      <td>1.402710e+05</td>\n",
       "    </tr>\n",
       "    <tr>\n",
       "      <th>75%</th>\n",
       "      <td>2013.000000</td>\n",
       "      <td>6.015794e+06</td>\n",
       "    </tr>\n",
       "    <tr>\n",
       "      <th>max</th>\n",
       "      <td>2018.000000</td>\n",
       "      <td>1.021523e+09</td>\n",
       "    </tr>\n",
       "  </tbody>\n",
       "</table>\n",
       "</div>"
      ],
      "text/plain": [
       "       release_year  Sum_playtime_forever\n",
       "count    341.000000          3.410000e+02\n",
       "mean    2005.888563          2.461815e+07\n",
       "std        8.980987          7.946313e+07\n",
       "min     1983.000000          0.000000e+00\n",
       "25%     1999.000000          6.419000e+03\n",
       "50%     2008.000000          1.402710e+05\n",
       "75%     2013.000000          6.015794e+06\n",
       "max     2018.000000          1.021523e+09"
      ]
     },
     "execution_count": 4,
     "metadata": {},
     "output_type": "execute_result"
    }
   ],
   "source": [
    "df_PlayTimeGenre.describe()"
   ]
  },
  {
   "cell_type": "code",
   "execution_count": 5,
   "metadata": {},
   "outputs": [
    {
     "data": {
      "text/plain": [
       "0"
      ]
     },
     "execution_count": 5,
     "metadata": {},
     "output_type": "execute_result"
    }
   ],
   "source": [
    "df_PlayTimeGenre.duplicated().sum()"
   ]
  },
  {
   "cell_type": "code",
   "execution_count": 6,
   "metadata": {},
   "outputs": [
    {
     "data": {
      "text/plain": [
       "genres                  0\n",
       "release_year            0\n",
       "Sum_playtime_forever    0\n",
       "dtype: int64"
      ]
     },
     "execution_count": 6,
     "metadata": {},
     "output_type": "execute_result"
    }
   ],
   "source": [
    "df_PlayTimeGenre.isnull().sum()"
   ]
  },
  {
   "cell_type": "code",
   "execution_count": 7,
   "metadata": {},
   "outputs": [
    {
     "data": {
      "text/plain": [
       "<Axes: xlabel='count', ylabel='genres'>"
      ]
     },
     "execution_count": 7,
     "metadata": {},
     "output_type": "execute_result"
    },
    {
     "data": {
      "image/png": "[encoded data removed]",
      "text/plain": [
       "<Figure size 640x480 with 1 Axes>"
      ]
     },
     "metadata": {},
     "output_type": "display_data"
    }
   ],
   "source": [
    "sns.countplot(df_PlayTimeGenre['genres'])\n",
    "# Hay una mayor cantidad de datos de los generos Action, Adventure y Simulation. Podria significar que faltan datos sobre los otros generos\n",
    "#  a lo largo de los años o que simplemente no fueron desarrollados. \n",
    "# Esto implica una mayor cantidad de data respecto a otros generos y por ende podria significar una mayor cantidad de horas de juegos \n",
    "# en estos generos que tergiversen los resultados."
   ]
  },
  {
   "cell_type": "code",
   "execution_count": 8,
   "metadata": {},
   "outputs": [
    {
     "data": {
      "text/plain": [
       "[Text(0.5, 0, 'release_year'), Text(0, 0.5, 'Sum_playtime_forever')]"
      ]
     },
     "execution_count": 8,
     "metadata": {},
     "output_type": "execute_result"
    },
    {
     "data": {
      "image/png": "[encoded data removed]",
      "text/plain": [
       "<Figure size 640x480 with 1 Axes>"
      ]
     },
     "metadata": {},
     "output_type": "display_data"
    }
   ],
   "source": [
    "fig = plt.figure()\n",
    "ax = plt.axes()\n",
    "ax.scatter(df_PlayTimeGenre['release_year'],df_PlayTimeGenre['Sum_playtime_forever'])\n",
    "ax.set(xlabel='release_year', ylabel='Sum_playtime_forever')\n",
    "# Se puede apreciar mayor tiempo de juego a partir del año 2005, habiendo una tendencia clara a partir del año 2010\n"
   ]
  },
  {
   "cell_type": "code",
   "execution_count": 9,
   "metadata": {},
   "outputs": [
    {
     "data": {
      "text/html": [
       "<div>\n",
       "<style scoped>\n",
       "    .dataframe tbody tr th:only-of-type {\n",
       "        vertical-align: middle;\n",
       "    }\n",
       "\n",
       "    .dataframe tbody tr th {\n",
       "        vertical-align: top;\n",
       "    }\n",
       "\n",
       "    .dataframe thead th {\n",
       "        text-align: right;\n",
       "    }\n",
       "</style>\n",
       "<table border=\"1\" class=\"dataframe\">\n",
       "  <thead>\n",
       "    <tr style=\"text-align: right;\">\n",
       "      <th></th>\n",
       "      <th>genres</th>\n",
       "      <th>release_year</th>\n",
       "      <th>Sum_playtime_forever</th>\n",
       "    </tr>\n",
       "  </thead>\n",
       "  <tbody>\n",
       "    <tr>\n",
       "      <th>0</th>\n",
       "      <td>Action</td>\n",
       "      <td>1997.0</td>\n",
       "      <td>271013</td>\n",
       "    </tr>\n",
       "    <tr>\n",
       "      <th>1</th>\n",
       "      <td>Indie</td>\n",
       "      <td>1997.0</td>\n",
       "      <td>64814</td>\n",
       "    </tr>\n",
       "    <tr>\n",
       "      <th>2</th>\n",
       "      <td>Racing</td>\n",
       "      <td>1997.0</td>\n",
       "      <td>9319</td>\n",
       "    </tr>\n",
       "    <tr>\n",
       "      <th>3</th>\n",
       "      <td>Action</td>\n",
       "      <td>1998.0</td>\n",
       "      <td>2809535</td>\n",
       "    </tr>\n",
       "    <tr>\n",
       "      <th>4</th>\n",
       "      <td>Strategy</td>\n",
       "      <td>2006.0</td>\n",
       "      <td>3683704</td>\n",
       "    </tr>\n",
       "  </tbody>\n",
       "</table>\n",
       "</div>"
      ],
      "text/plain": [
       "     genres  release_year  Sum_playtime_forever\n",
       "0    Action        1997.0                271013\n",
       "1     Indie        1997.0                 64814\n",
       "2    Racing        1997.0                  9319\n",
       "3    Action        1998.0               2809535\n",
       "4  Strategy        2006.0               3683704"
      ]
     },
     "execution_count": 9,
     "metadata": {},
     "output_type": "execute_result"
    }
   ],
   "source": [
    "df_PlayTimeGenre.head()"
   ]
  },
  {
   "cell_type": "code",
   "execution_count": 10,
   "metadata": {},
   "outputs": [
    {
     "data": {
      "text/html": [
       "<div>\n",
       "<style scoped>\n",
       "    .dataframe tbody tr th:only-of-type {\n",
       "        vertical-align: middle;\n",
       "    }\n",
       "\n",
       "    .dataframe tbody tr th {\n",
       "        vertical-align: top;\n",
       "    }\n",
       "\n",
       "    .dataframe thead th {\n",
       "        text-align: right;\n",
       "    }\n",
       "</style>\n",
       "<table border=\"1\" class=\"dataframe\">\n",
       "  <thead>\n",
       "    <tr style=\"text-align: right;\">\n",
       "      <th></th>\n",
       "      <th>genres</th>\n",
       "      <th>Horas_Acum</th>\n",
       "    </tr>\n",
       "  </thead>\n",
       "  <tbody>\n",
       "    <tr>\n",
       "      <th>0</th>\n",
       "      <td>Action</td>\n",
       "      <td>2695424215</td>\n",
       "    </tr>\n",
       "    <tr>\n",
       "      <th>1</th>\n",
       "      <td>Indie</td>\n",
       "      <td>1379142637</td>\n",
       "    </tr>\n",
       "    <tr>\n",
       "      <th>2</th>\n",
       "      <td>Racing</td>\n",
       "      <td>18561256</td>\n",
       "    </tr>\n",
       "    <tr>\n",
       "      <th>3</th>\n",
       "      <td>Strategy</td>\n",
       "      <td>448207342</td>\n",
       "    </tr>\n",
       "    <tr>\n",
       "      <th>4</th>\n",
       "      <td>Simulation</td>\n",
       "      <td>830578013</td>\n",
       "    </tr>\n",
       "  </tbody>\n",
       "</table>\n",
       "</div>"
      ],
      "text/plain": [
       "       genres  Horas_Acum\n",
       "0      Action  2695424215\n",
       "1       Indie  1379142637\n",
       "2      Racing    18561256\n",
       "3    Strategy   448207342\n",
       "4  Simulation   830578013"
      ]
     },
     "execution_count": 10,
     "metadata": {},
     "output_type": "execute_result"
    }
   ],
   "source": [
    "# Se obtiene las horas acumuladas a lo largo de los años por genero\n",
    "df_PlayTimeGenre_acum = df_PlayTimeGenre.copy()\n",
    "df_PlayTimeGenre_acum['Horas_Acum'] = df_PlayTimeGenre_acum.groupby(['genres'])['Sum_playtime_forever'].transform('sum')\n",
    "df_PlayTimeGenre_acum.drop(columns=['Sum_playtime_forever','release_year'],inplace=True)\n",
    "df_PlayTimeGenre_acum.drop_duplicates(subset=['genres'],inplace=True)\n",
    "df_PlayTimeGenre_acum.reset_index(drop=True,inplace=True)\n",
    "df_PlayTimeGenre_acum.head()"
   ]
  },
  {
   "cell_type": "code",
   "execution_count": 11,
   "metadata": {},
   "outputs": [
    {
     "data": {
      "text/plain": [
       "[Text(0.5, 0, 'Horas_Acum'), Text(0, 0.5, 'Generos')]"
      ]
     },
     "execution_count": 11,
     "metadata": {},
     "output_type": "execute_result"
    },
    {
     "data": {
      "image/png": "[encoded data removed]",
      "text/plain": [
       "<Figure size 640x480 with 1 Axes>"
      ]
     },
     "metadata": {},
     "output_type": "display_data"
    }
   ],
   "source": [
    "fig = plt.figure()\n",
    "ax = plt.axes()\n",
    "ax.scatter(df_PlayTimeGenre_acum['Horas_Acum'],df_PlayTimeGenre_acum['genres'])\n",
    "ax.set(xlabel='Horas_Acum', ylabel='Generos')\n",
    "# Se puede apreciar mayor tiempo de juego a partir del año 2005, habiendo una tendencia clara a partir del año 2010"
   ]
  },
  {
   "cell_type": "markdown",
   "metadata": {},
   "source": [
    "El genero con mayores cantidades de tiempo fueron Action, Indie y RPG. Inicialmente, se aprecio que se tenia una mayor cantidad de data de los generos Action, Adventure y Simulation, por lo cual no sorprende que Action lidere en los tiempos; sin embargo Indie es la sorpresa ya que a pesar de tener menor cantidad de data se encuentra en 2do lugar tiempo de juego."
   ]
  },
  {
   "cell_type": "markdown",
   "metadata": {},
   "source": [
    "<b>EDA UserForGenre"
   ]
  },
  {
   "cell_type": "code",
   "execution_count": 2,
   "metadata": {},
   "outputs": [],
   "source": [
    "# Carga de dataset UserForGenre\n",
    "df_UserForGenre = pd.read_parquet('..\\\\Funciones\\\\datasets\\\\UserForGenre.parquet')"
   ]
  },
  {
   "cell_type": "code",
   "execution_count": 3,
   "metadata": {},
   "outputs": [
    {
     "data": {
      "text/html": [
       "<div>\n",
       "<style scoped>\n",
       "    .dataframe tbody tr th:only-of-type {\n",
       "        vertical-align: middle;\n",
       "    }\n",
       "\n",
       "    .dataframe tbody tr th {\n",
       "        vertical-align: top;\n",
       "    }\n",
       "\n",
       "    .dataframe thead th {\n",
       "        text-align: right;\n",
       "    }\n",
       "</style>\n",
       "<table border=\"1\" class=\"dataframe\">\n",
       "  <thead>\n",
       "    <tr style=\"text-align: right;\">\n",
       "      <th></th>\n",
       "      <th>genres</th>\n",
       "      <th>user_id</th>\n",
       "      <th>release_year</th>\n",
       "      <th>Sum_playtime_year</th>\n",
       "    </tr>\n",
       "  </thead>\n",
       "  <tbody>\n",
       "    <tr>\n",
       "      <th>0</th>\n",
       "      <td>Action</td>\n",
       "      <td>UTNerd24</td>\n",
       "      <td>1997.0</td>\n",
       "      <td>2386</td>\n",
       "    </tr>\n",
       "    <tr>\n",
       "      <th>1</th>\n",
       "      <td>Action</td>\n",
       "      <td>I_DID_911_JUST_SAYING</td>\n",
       "      <td>1997.0</td>\n",
       "      <td>0</td>\n",
       "    </tr>\n",
       "    <tr>\n",
       "      <th>2</th>\n",
       "      <td>Action</td>\n",
       "      <td>76561197962104795</td>\n",
       "      <td>1997.0</td>\n",
       "      <td>0</td>\n",
       "    </tr>\n",
       "    <tr>\n",
       "      <th>3</th>\n",
       "      <td>Action</td>\n",
       "      <td>r3ap3r78</td>\n",
       "      <td>1997.0</td>\n",
       "      <td>0</td>\n",
       "    </tr>\n",
       "    <tr>\n",
       "      <th>4</th>\n",
       "      <td>Action</td>\n",
       "      <td>saint556</td>\n",
       "      <td>1997.0</td>\n",
       "      <td>206</td>\n",
       "    </tr>\n",
       "  </tbody>\n",
       "</table>\n",
       "</div>"
      ],
      "text/plain": [
       "   genres                user_id  release_year  Sum_playtime_year\n",
       "0  Action               UTNerd24        1997.0               2386\n",
       "1  Action  I_DID_911_JUST_SAYING        1997.0                  0\n",
       "2  Action      76561197962104795        1997.0                  0\n",
       "3  Action               r3ap3r78        1997.0                  0\n",
       "4  Action               saint556        1997.0                206"
      ]
     },
     "execution_count": 3,
     "metadata": {},
     "output_type": "execute_result"
    }
   ],
   "source": [
    "df_UserForGenre.head()"
   ]
  },
  {
   "cell_type": "markdown",
   "metadata": {},
   "source": [
    "Analisando usuarios y generos"
   ]
  },
  {
   "cell_type": "code",
   "execution_count": 5,
   "metadata": {},
   "outputs": [
    {
     "data": {
      "text/html": [
       "<div>\n",
       "<style scoped>\n",
       "    .dataframe tbody tr th:only-of-type {\n",
       "        vertical-align: middle;\n",
       "    }\n",
       "\n",
       "    .dataframe tbody tr th {\n",
       "        vertical-align: top;\n",
       "    }\n",
       "\n",
       "    .dataframe thead th {\n",
       "        text-align: right;\n",
       "    }\n",
       "</style>\n",
       "<table border=\"1\" class=\"dataframe\">\n",
       "  <thead>\n",
       "    <tr style=\"text-align: right;\">\n",
       "      <th></th>\n",
       "      <th>genres</th>\n",
       "      <th>user_id</th>\n",
       "    </tr>\n",
       "  </thead>\n",
       "  <tbody>\n",
       "    <tr>\n",
       "      <th>0</th>\n",
       "      <td>Action</td>\n",
       "      <td>UTNerd24</td>\n",
       "    </tr>\n",
       "    <tr>\n",
       "      <th>1</th>\n",
       "      <td>Action</td>\n",
       "      <td>I_DID_911_JUST_SAYING</td>\n",
       "    </tr>\n",
       "    <tr>\n",
       "      <th>2</th>\n",
       "      <td>Action</td>\n",
       "      <td>76561197962104795</td>\n",
       "    </tr>\n",
       "    <tr>\n",
       "      <th>3</th>\n",
       "      <td>Action</td>\n",
       "      <td>r3ap3r78</td>\n",
       "    </tr>\n",
       "    <tr>\n",
       "      <th>4</th>\n",
       "      <td>Action</td>\n",
       "      <td>saint556</td>\n",
       "    </tr>\n",
       "  </tbody>\n",
       "</table>\n",
       "</div>"
      ],
      "text/plain": [
       "   genres                user_id\n",
       "0  Action               UTNerd24\n",
       "1  Action  I_DID_911_JUST_SAYING\n",
       "2  Action      76561197962104795\n",
       "3  Action               r3ap3r78\n",
       "4  Action               saint556"
      ]
     },
     "execution_count": 5,
     "metadata": {},
     "output_type": "execute_result"
    }
   ],
   "source": [
    "genre_users = df_UserForGenre.copy()\n",
    "genre_users.drop(columns=['release_year','Sum_playtime_year'],inplace=True)\n",
    "genre_users.drop_duplicates(subset=['genres','user_id'],inplace=True)\n",
    "genre_users.head()"
   ]
  },
  {
   "cell_type": "code",
   "execution_count": 7,
   "metadata": {},
   "outputs": [
    {
     "data": {
      "text/plain": [
       "<Axes: xlabel='count', ylabel='genres'>"
      ]
     },
     "execution_count": 7,
     "metadata": {},
     "output_type": "execute_result"
    },
    {
     "data": {
      "image/png": "[encoded data removed]",
      "text/plain": [
       "<Figure size 640x480 with 1 Axes>"
      ]
     },
     "metadata": {},
     "output_type": "display_data"
    }
   ],
   "source": [
    "sns.countplot(genre_users['genres'])\n",
    "# Se aprecia una concentracion de jugadores en 8 generos(Action, Indie, Adventure, RPG, Free to Play y Simulation). \n",
    "# En los videojuegos educativos hay pocos usuarios."
   ]
  },
  {
   "cell_type": "markdown",
   "metadata": {},
   "source": [
    "Analisis de usuarios"
   ]
  },
  {
   "cell_type": "code",
   "execution_count": 3,
   "metadata": {},
   "outputs": [
    {
     "data": {
      "text/html": [
       "<div>\n",
       "<style scoped>\n",
       "    .dataframe tbody tr th:only-of-type {\n",
       "        vertical-align: middle;\n",
       "    }\n",
       "\n",
       "    .dataframe tbody tr th {\n",
       "        vertical-align: top;\n",
       "    }\n",
       "\n",
       "    .dataframe thead th {\n",
       "        text-align: right;\n",
       "    }\n",
       "</style>\n",
       "<table border=\"1\" class=\"dataframe\">\n",
       "  <thead>\n",
       "    <tr style=\"text-align: right;\">\n",
       "      <th></th>\n",
       "      <th>genres</th>\n",
       "      <th>user_id</th>\n",
       "      <th>release_year</th>\n",
       "      <th>Sum_playtime_year</th>\n",
       "    </tr>\n",
       "  </thead>\n",
       "  <tbody>\n",
       "    <tr>\n",
       "      <th>0</th>\n",
       "      <td>Action</td>\n",
       "      <td>UTNerd24</td>\n",
       "      <td>1997.0</td>\n",
       "      <td>2386</td>\n",
       "    </tr>\n",
       "    <tr>\n",
       "      <th>1</th>\n",
       "      <td>Action</td>\n",
       "      <td>I_DID_911_JUST_SAYING</td>\n",
       "      <td>1997.0</td>\n",
       "      <td>0</td>\n",
       "    </tr>\n",
       "    <tr>\n",
       "      <th>2</th>\n",
       "      <td>Action</td>\n",
       "      <td>76561197962104795</td>\n",
       "      <td>1997.0</td>\n",
       "      <td>0</td>\n",
       "    </tr>\n",
       "    <tr>\n",
       "      <th>3</th>\n",
       "      <td>Action</td>\n",
       "      <td>r3ap3r78</td>\n",
       "      <td>1997.0</td>\n",
       "      <td>0</td>\n",
       "    </tr>\n",
       "    <tr>\n",
       "      <th>4</th>\n",
       "      <td>Action</td>\n",
       "      <td>saint556</td>\n",
       "      <td>1997.0</td>\n",
       "      <td>206</td>\n",
       "    </tr>\n",
       "  </tbody>\n",
       "</table>\n",
       "</div>"
      ],
      "text/plain": [
       "   genres                user_id  release_year  Sum_playtime_year\n",
       "0  Action               UTNerd24        1997.0               2386\n",
       "1  Action  I_DID_911_JUST_SAYING        1997.0                  0\n",
       "2  Action      76561197962104795        1997.0                  0\n",
       "3  Action               r3ap3r78        1997.0                  0\n",
       "4  Action               saint556        1997.0                206"
      ]
     },
     "execution_count": 3,
     "metadata": {},
     "output_type": "execute_result"
    }
   ],
   "source": [
    "df_UserForGenre.head()"
   ]
  },
  {
   "cell_type": "code",
   "execution_count": 4,
   "metadata": {},
   "outputs": [
    {
     "data": {
      "text/html": [
       "<div>\n",
       "<style scoped>\n",
       "    .dataframe tbody tr th:only-of-type {\n",
       "        vertical-align: middle;\n",
       "    }\n",
       "\n",
       "    .dataframe tbody tr th {\n",
       "        vertical-align: top;\n",
       "    }\n",
       "\n",
       "    .dataframe thead th {\n",
       "        text-align: right;\n",
       "    }\n",
       "</style>\n",
       "<table border=\"1\" class=\"dataframe\">\n",
       "  <thead>\n",
       "    <tr style=\"text-align: right;\">\n",
       "      <th></th>\n",
       "      <th>release_year</th>\n",
       "      <th>Sum_playtime_year</th>\n",
       "    </tr>\n",
       "  </thead>\n",
       "  <tbody>\n",
       "    <tr>\n",
       "      <th>count</th>\n",
       "      <td>1.582397e+07</td>\n",
       "      <td>1.582397e+07</td>\n",
       "    </tr>\n",
       "    <tr>\n",
       "      <th>mean</th>\n",
       "      <td>2.012577e+03</td>\n",
       "      <td>1.208024e+04</td>\n",
       "    </tr>\n",
       "    <tr>\n",
       "      <th>std</th>\n",
       "      <td>3.550427e+00</td>\n",
       "      <td>3.705529e+04</td>\n",
       "    </tr>\n",
       "    <tr>\n",
       "      <th>min</th>\n",
       "      <td>1.983000e+03</td>\n",
       "      <td>0.000000e+00</td>\n",
       "    </tr>\n",
       "    <tr>\n",
       "      <th>25%</th>\n",
       "      <td>2.011000e+03</td>\n",
       "      <td>3.600000e+02</td>\n",
       "    </tr>\n",
       "    <tr>\n",
       "      <th>50%</th>\n",
       "      <td>2.013000e+03</td>\n",
       "      <td>2.544000e+03</td>\n",
       "    </tr>\n",
       "    <tr>\n",
       "      <th>75%</th>\n",
       "      <td>2.015000e+03</td>\n",
       "      <td>9.882000e+03</td>\n",
       "    </tr>\n",
       "    <tr>\n",
       "      <th>max</th>\n",
       "      <td>2.018000e+03</td>\n",
       "      <td>1.550174e+06</td>\n",
       "    </tr>\n",
       "  </tbody>\n",
       "</table>\n",
       "</div>"
      ],
      "text/plain": [
       "       release_year  Sum_playtime_year\n",
       "count  1.582397e+07       1.582397e+07\n",
       "mean   2.012577e+03       1.208024e+04\n",
       "std    3.550427e+00       3.705529e+04\n",
       "min    1.983000e+03       0.000000e+00\n",
       "25%    2.011000e+03       3.600000e+02\n",
       "50%    2.013000e+03       2.544000e+03\n",
       "75%    2.015000e+03       9.882000e+03\n",
       "max    2.018000e+03       1.550174e+06"
      ]
     },
     "execution_count": 4,
     "metadata": {},
     "output_type": "execute_result"
    }
   ],
   "source": [
    "df_UserForGenre.describe()"
   ]
  },
  {
   "cell_type": "code",
   "execution_count": 5,
   "metadata": {},
   "outputs": [
    {
     "data": {
      "text/html": [
       "<div>\n",
       "<style scoped>\n",
       "    .dataframe tbody tr th:only-of-type {\n",
       "        vertical-align: middle;\n",
       "    }\n",
       "\n",
       "    .dataframe tbody tr th {\n",
       "        vertical-align: top;\n",
       "    }\n",
       "\n",
       "    .dataframe thead th {\n",
       "        text-align: right;\n",
       "    }\n",
       "</style>\n",
       "<table border=\"1\" class=\"dataframe\">\n",
       "  <thead>\n",
       "    <tr style=\"text-align: right;\">\n",
       "      <th></th>\n",
       "      <th>user_id</th>\n",
       "      <th>Horas_Acum</th>\n",
       "    </tr>\n",
       "  </thead>\n",
       "  <tbody>\n",
       "    <tr>\n",
       "      <th>0</th>\n",
       "      <td>phrostb</td>\n",
       "      <td>3703111944</td>\n",
       "    </tr>\n",
       "    <tr>\n",
       "      <th>1</th>\n",
       "      <td>REBAS_AS_F-T</td>\n",
       "      <td>3543013076</td>\n",
       "    </tr>\n",
       "    <tr>\n",
       "      <th>2</th>\n",
       "      <td>Steamified</td>\n",
       "      <td>3542257424</td>\n",
       "    </tr>\n",
       "    <tr>\n",
       "      <th>3</th>\n",
       "      <td>piepai</td>\n",
       "      <td>2702169704</td>\n",
       "    </tr>\n",
       "    <tr>\n",
       "      <th>4</th>\n",
       "      <td>thugnificent</td>\n",
       "      <td>2647827100</td>\n",
       "    </tr>\n",
       "    <tr>\n",
       "      <th>...</th>\n",
       "      <td>...</td>\n",
       "      <td>...</td>\n",
       "    </tr>\n",
       "    <tr>\n",
       "      <th>68035</th>\n",
       "      <td>76561198103566623</td>\n",
       "      <td>0</td>\n",
       "    </tr>\n",
       "    <tr>\n",
       "      <th>68036</th>\n",
       "      <td>abnertf21</td>\n",
       "      <td>0</td>\n",
       "    </tr>\n",
       "    <tr>\n",
       "      <th>68037</th>\n",
       "      <td>76561198149408365</td>\n",
       "      <td>0</td>\n",
       "    </tr>\n",
       "    <tr>\n",
       "      <th>68038</th>\n",
       "      <td>76561198091028106</td>\n",
       "      <td>0</td>\n",
       "    </tr>\n",
       "    <tr>\n",
       "      <th>68039</th>\n",
       "      <td>76561198081164097</td>\n",
       "      <td>0</td>\n",
       "    </tr>\n",
       "  </tbody>\n",
       "</table>\n",
       "<p>68040 rows × 2 columns</p>\n",
       "</div>"
      ],
      "text/plain": [
       "                 user_id  Horas_Acum\n",
       "0                phrostb  3703111944\n",
       "1           REBAS_AS_F-T  3543013076\n",
       "2             Steamified  3542257424\n",
       "3                 piepai  2702169704\n",
       "4           thugnificent  2647827100\n",
       "...                  ...         ...\n",
       "68035  76561198103566623           0\n",
       "68036          abnertf21           0\n",
       "68037  76561198149408365           0\n",
       "68038  76561198091028106           0\n",
       "68039  76561198081164097           0\n",
       "\n",
       "[68040 rows x 2 columns]"
      ]
     },
     "execution_count": 5,
     "metadata": {},
     "output_type": "execute_result"
    }
   ],
   "source": [
    "# Analisis de los usuarios sin importar el genero\n",
    "users = df_UserForGenre.copy()\n",
    "users.drop(columns=['genres','release_year'],inplace=True)\n",
    "users['Horas_Acum'] = users.groupby(['user_id'])['Sum_playtime_year'].transform('sum')\n",
    "users.drop(columns=['Sum_playtime_year'],inplace=True)\n",
    "users.drop_duplicates(subset=['user_id'],inplace=True)\n",
    "users.sort_values(['Horas_Acum'],inplace=True,ascending=False)\n",
    "users.reset_index(drop=True,inplace=True)\n",
    "\n",
    "# Se muestra en orden los usuarios que tienen mayor tiempo de juego. Liderado por phrostb\n",
    "users"
   ]
  },
  {
   "cell_type": "code",
   "execution_count": 52,
   "metadata": {},
   "outputs": [],
   "source": [
    "# Funcion que indica los juegos mas jugados por el jugador\n",
    "def genres_users(user):\n",
    "    genre_phrostb =  df_UserForGenre['genres'][df_UserForGenre['user_id'] == user]\n",
    "    genre_phrostb.drop_duplicates(inplace=True)\n",
    "    return genre_phrostb"
   ]
  },
  {
   "cell_type": "code",
   "execution_count": 56,
   "metadata": {},
   "outputs": [
    {
     "name": "stdout",
     "output_type": "stream",
     "text": [
      "15                            Action\n",
      "190                            Indie\n",
      "365                           Racing\n",
      "16565                       Strategy\n",
      "73376                     Simulation\n",
      "203012                           RPG\n",
      "203823                     Adventure\n",
      "244472                        Casual\n",
      "419383                        Sports\n",
      "839043                  Free to Play\n",
      "845340         Massively Multiplayer\n",
      "2617633                 Early Access\n",
      "3041921     Animation &amp; Modeling\n",
      "3774892                    Utilities\n",
      "4189811                    Education\n",
      "4371958    Design &amp; Illustration\n",
      "4689848               Web Publishing\n",
      "5311836             Audio Production\n",
      "5312508                Photo Editing\n",
      "5313180             Video Production\n",
      "5558358            Software Training\n",
      "Name: genres, dtype: object\n"
     ]
    }
   ],
   "source": [
    "print(genres_users('phrostb'))"
   ]
  },
  {
   "cell_type": "code",
   "execution_count": 57,
   "metadata": {},
   "outputs": [
    {
     "name": "stdout",
     "output_type": "stream",
     "text": [
      "3797                           Action\n",
      "40528                           Indie\n",
      "83829                      Simulation\n",
      "203092                            RPG\n",
      "212930                      Adventure\n",
      "255499                         Racing\n",
      "299712                       Strategy\n",
      "388504                         Casual\n",
      "812892                         Sports\n",
      "840769                   Free to Play\n",
      "847066          Massively Multiplayer\n",
      "2681751                  Early Access\n",
      "5311968              Audio Production\n",
      "5312304     Design &amp; Illustration\n",
      "5312640                 Photo Editing\n",
      "5312976                     Utilities\n",
      "5313312              Video Production\n",
      "5313648                Web Publishing\n",
      "11264995     Animation &amp; Modeling\n",
      "Name: genres, dtype: object\n"
     ]
    }
   ],
   "source": [
    "print(genres_users('REBAS_AS_F-T'))"
   ]
  },
  {
   "cell_type": "code",
   "execution_count": 58,
   "metadata": {},
   "outputs": [
    {
     "name": "stdout",
     "output_type": "stream",
     "text": [
      "3531                           Action\n",
      "16620                        Strategy\n",
      "18348                           Indie\n",
      "82682                      Simulation\n",
      "200856                      Adventure\n",
      "201070                            RPG\n",
      "201816                         Racing\n",
      "251177                         Casual\n",
      "812850                         Sports\n",
      "1265531                  Free to Play\n",
      "1266103         Massively Multiplayer\n",
      "2617801                  Early Access\n",
      "5022892      Animation &amp; Modeling\n",
      "5023792              Video Production\n",
      "7584687                     Utilities\n",
      "10889028               Web Publishing\n",
      "12543577    Design &amp; Illustration\n",
      "Name: genres, dtype: object\n"
     ]
    }
   ],
   "source": [
    "print(genres_users('Steamified'))"
   ]
  },
  {
   "cell_type": "markdown",
   "metadata": {},
   "source": [
    "En el top 3 de usuarios con mayor cantidad de tiempo jugada (phrostb, REBAS_AS_F-T,Steamified) es liderado por Action y seguido por Indie"
   ]
  },
  {
   "cell_type": "markdown",
   "metadata": {},
   "source": [
    "<b>EDA SentimentRecommend"
   ]
  },
  {
   "cell_type": "code",
   "execution_count": 7,
   "metadata": {},
   "outputs": [],
   "source": [
    "df_SentimentRecommend = pd.read_parquet('..\\\\Funciones\\\\datasets\\\\SentimentRecommend.parquet')"
   ]
  },
  {
   "cell_type": "code",
   "execution_count": 16,
   "metadata": {},
   "outputs": [
    {
     "data": {
      "text/html": [
       "<div>\n",
       "<style scoped>\n",
       "    .dataframe tbody tr th:only-of-type {\n",
       "        vertical-align: middle;\n",
       "    }\n",
       "\n",
       "    .dataframe tbody tr th {\n",
       "        vertical-align: top;\n",
       "    }\n",
       "\n",
       "    .dataframe thead th {\n",
       "        text-align: right;\n",
       "    }\n",
       "</style>\n",
       "<table border=\"1\" class=\"dataframe\">\n",
       "  <thead>\n",
       "    <tr style=\"text-align: right;\">\n",
       "      <th></th>\n",
       "      <th>item_id</th>\n",
       "      <th>year_posted</th>\n",
       "      <th>sentiment_analysis</th>\n",
       "      <th>Recomends_times</th>\n",
       "    </tr>\n",
       "  </thead>\n",
       "  <tbody>\n",
       "    <tr>\n",
       "      <th>0</th>\n",
       "      <td>12210</td>\n",
       "      <td>2014</td>\n",
       "      <td>Negative</td>\n",
       "      <td>3</td>\n",
       "    </tr>\n",
       "    <tr>\n",
       "      <th>1</th>\n",
       "      <td>630</td>\n",
       "      <td>2013</td>\n",
       "      <td>Negative</td>\n",
       "      <td>1</td>\n",
       "    </tr>\n",
       "    <tr>\n",
       "      <th>2</th>\n",
       "      <td>33950</td>\n",
       "      <td>2014</td>\n",
       "      <td>Negative</td>\n",
       "      <td>1</td>\n",
       "    </tr>\n",
       "    <tr>\n",
       "      <th>3</th>\n",
       "      <td>204080</td>\n",
       "      <td>2014</td>\n",
       "      <td>Negative</td>\n",
       "      <td>1</td>\n",
       "    </tr>\n",
       "    <tr>\n",
       "      <th>4</th>\n",
       "      <td>322920</td>\n",
       "      <td>2015</td>\n",
       "      <td>Negative</td>\n",
       "      <td>1</td>\n",
       "    </tr>\n",
       "  </tbody>\n",
       "</table>\n",
       "</div>"
      ],
      "text/plain": [
       "  item_id  year_posted sentiment_analysis  Recomends_times\n",
       "0   12210         2014           Negative                3\n",
       "1     630         2013           Negative                1\n",
       "2   33950         2014           Negative                1\n",
       "3  204080         2014           Negative                1\n",
       "4  322920         2015           Negative                1"
      ]
     },
     "execution_count": 16,
     "metadata": {},
     "output_type": "execute_result"
    }
   ],
   "source": [
    "df_SentimentRecommend.head()"
   ]
  },
  {
   "cell_type": "code",
   "execution_count": 12,
   "metadata": {},
   "outputs": [
    {
     "data": {
      "text/plain": [
       "<Axes: xlabel='count', ylabel='sentiment_analysis'>"
      ]
     },
     "execution_count": 12,
     "metadata": {},
     "output_type": "execute_result"
    },
    {
     "data": {
      "image/png": "[encoded data removed]",
      "text/plain": [
       "<Figure size 640x480 with 1 Axes>"
      ]
     },
     "metadata": {},
     "output_type": "display_data"
    }
   ],
   "source": [
    "sns.countplot(df_SentimentRecommend['sentiment_analysis'])\n",
    "# Se presenta una mayor cantidad de comentarios neutrales y luego positivos"
   ]
  },
  {
   "cell_type": "code",
   "execution_count": 30,
   "metadata": {},
   "outputs": [
    {
     "data": {
      "text/html": [
       "<div>\n",
       "<style scoped>\n",
       "    .dataframe tbody tr th:only-of-type {\n",
       "        vertical-align: middle;\n",
       "    }\n",
       "\n",
       "    .dataframe tbody tr th {\n",
       "        vertical-align: top;\n",
       "    }\n",
       "\n",
       "    .dataframe thead th {\n",
       "        text-align: right;\n",
       "    }\n",
       "</style>\n",
       "<table border=\"1\" class=\"dataframe\">\n",
       "  <thead>\n",
       "    <tr style=\"text-align: right;\">\n",
       "      <th></th>\n",
       "      <th>year_posted</th>\n",
       "      <th>Recomend_times_year</th>\n",
       "    </tr>\n",
       "  </thead>\n",
       "  <tbody>\n",
       "    <tr>\n",
       "      <th>0</th>\n",
       "      <td>2010</td>\n",
       "      <td>66</td>\n",
       "    </tr>\n",
       "    <tr>\n",
       "      <th>1</th>\n",
       "      <td>2011</td>\n",
       "      <td>532</td>\n",
       "    </tr>\n",
       "    <tr>\n",
       "      <th>2</th>\n",
       "      <td>2012</td>\n",
       "      <td>1215</td>\n",
       "    </tr>\n",
       "    <tr>\n",
       "      <th>3</th>\n",
       "      <td>2013</td>\n",
       "      <td>6792</td>\n",
       "    </tr>\n",
       "    <tr>\n",
       "      <th>4</th>\n",
       "      <td>2014</td>\n",
       "      <td>22111</td>\n",
       "    </tr>\n",
       "    <tr>\n",
       "      <th>5</th>\n",
       "      <td>2015</td>\n",
       "      <td>18470</td>\n",
       "    </tr>\n",
       "  </tbody>\n",
       "</table>\n",
       "</div>"
      ],
      "text/plain": [
       "   year_posted  Recomend_times_year\n",
       "0         2010                   66\n",
       "1         2011                  532\n",
       "2         2012                 1215\n",
       "3         2013                 6792\n",
       "4         2014                22111\n",
       "5         2015                18470"
      ]
     },
     "execution_count": 30,
     "metadata": {},
     "output_type": "execute_result"
    }
   ],
   "source": [
    "recomend_year = df_SentimentRecommend.copy()\n",
    "recomend_year.head()\n",
    "recomend_year.drop(columns=['item_id','sentiment_analysis'],inplace=True)\n",
    "recomend_year['Recomend_times_year'] = recomend_year.groupby(['year_posted'])['Recomends_times'].transform('sum')\n",
    "recomend_year.drop(columns=['Recomends_times'],inplace=True)\n",
    "recomend_year.drop_duplicates(subset=['year_posted'],inplace=True)\n",
    "recomend_year.sort_values(['year_posted'],inplace=True)\n",
    "recomend_year.reset_index(drop=True,inplace=True)\n",
    "# En el año 2014 y 2015hubo mayores recomendaciones en general (4 veces del resto de años)\n",
    "recomend_year"
   ]
  },
  {
   "cell_type": "code",
   "execution_count": 38,
   "metadata": {},
   "outputs": [
    {
     "data": {
      "text/html": [
       "<div>\n",
       "<style scoped>\n",
       "    .dataframe tbody tr th:only-of-type {\n",
       "        vertical-align: middle;\n",
       "    }\n",
       "\n",
       "    .dataframe tbody tr th {\n",
       "        vertical-align: top;\n",
       "    }\n",
       "\n",
       "    .dataframe thead th {\n",
       "        text-align: right;\n",
       "    }\n",
       "</style>\n",
       "<table border=\"1\" class=\"dataframe\">\n",
       "  <thead>\n",
       "    <tr style=\"text-align: right;\">\n",
       "      <th></th>\n",
       "      <th>item_id</th>\n",
       "      <th>Recomend_times_item</th>\n",
       "    </tr>\n",
       "  </thead>\n",
       "  <tbody>\n",
       "    <tr>\n",
       "      <th>0</th>\n",
       "      <td>440</td>\n",
       "      <td>3436</td>\n",
       "    </tr>\n",
       "    <tr>\n",
       "      <th>1</th>\n",
       "      <td>730</td>\n",
       "      <td>3017</td>\n",
       "    </tr>\n",
       "    <tr>\n",
       "      <th>2</th>\n",
       "      <td>4000</td>\n",
       "      <td>1575</td>\n",
       "    </tr>\n",
       "    <tr>\n",
       "      <th>3</th>\n",
       "      <td>570</td>\n",
       "      <td>1417</td>\n",
       "    </tr>\n",
       "    <tr>\n",
       "      <th>4</th>\n",
       "      <td>218620</td>\n",
       "      <td>1012</td>\n",
       "    </tr>\n",
       "  </tbody>\n",
       "</table>\n",
       "</div>"
      ],
      "text/plain": [
       "  item_id  Recomend_times_item\n",
       "0     440                 3436\n",
       "1     730                 3017\n",
       "2    4000                 1575\n",
       "3     570                 1417\n",
       "4  218620                 1012"
      ]
     },
     "execution_count": 38,
     "metadata": {},
     "output_type": "execute_result"
    }
   ],
   "source": [
    "recomend_item = df_SentimentRecommend.copy()\n",
    "recomend_item.head()\n",
    "recomend_item.drop(columns=['year_posted','sentiment_analysis'],inplace=True)\n",
    "recomend_item['Recomend_times_item'] = recomend_item.groupby(['item_id'])['Recomends_times'].transform('sum')\n",
    "recomend_item.drop(columns=['Recomends_times'],inplace=True)\n",
    "recomend_item.drop_duplicates(subset=['item_id'],inplace=True)\n",
    "recomend_item.sort_values(['Recomend_times_item'],inplace=True,ascending= False)\n",
    "recomend_item.reset_index(drop=True,inplace=True)\n",
    "\n",
    "# los item_id's mas recomendados fueron el 440 y 730\n",
    "recomend_item.head()"
   ]
  }
 ],
 "metadata": {
  "kernelspec": {
   "display_name": "Python 3",
   "language": "python",
   "name": "python3"
  },
  "language_info": {
   "codemirror_mode": {
    "name": "ipython",
    "version": 3
   },
   "file_extension": ".py",
   "mimetype": "text/x-python",
   "name": "python",
   "nbconvert_exporter": "python",
   "pygments_lexer": "ipython3",
   "version": "3.11.5"
  }
 },
 "nbformat": 4,
 "nbformat_minor": 2
}
