{
 "cells": [
  {
   "cell_type": "markdown",
   "metadata": {},
   "source": [
    "<center><b>Funciones para Endspoints (API)<b><center>"
   ]
  },
  {
   "cell_type": "code",
   "execution_count": 92,
   "metadata": {},
   "outputs": [],
   "source": [
    "# Importacion de librerias\n",
    "import pandas as pd\n",
    "import ast\n",
    "import pdb"
   ]
  },
  {
   "cell_type": "code",
   "execution_count": 93,
   "metadata": {},
   "outputs": [
    {
     "name": "stderr",
     "output_type": "stream",
     "text": [
      "C:\\Users\\DELL\\AppData\\Local\\Temp\\ipykernel_14948\\1214550425.py:4: DtypeWarning: Columns (0,1,2,3,4,5,6,7,8,9,10,12) have mixed types. Specify dtype option on import or set low_memory=False.\n",
      "  df_steams = pd.read_csv('..\\\\datasets\\\\New_datasets\\\\user_steams.csv')\n"
     ]
    }
   ],
   "source": [
    "# Carga de datasets\n",
    "df_items = pd.read_parquet('..\\\\datasets\\\\New_datasets\\\\user_items.parquet')\n",
    "df_reviews = pd.read_parquet('..\\\\datasets\\\\New_datasets\\\\user_reviews_sentiments.parquet')\n",
    "df_steams = pd.read_csv('..\\\\datasets\\\\New_datasets\\\\user_steams.csv')"
   ]
  },
  {
   "cell_type": "code",
   "execution_count": 94,
   "metadata": {},
   "outputs": [
    {
     "name": "stdout",
     "output_type": "stream",
     "text": [
      "<class 'pandas.core.frame.DataFrame'>\n",
      "RangeIndex: 5153209 entries, 0 to 5153208\n",
      "Data columns (total 6 columns):\n",
      " #   Column            Dtype  \n",
      "---  ------            -----  \n",
      " 0   user_id           object \n",
      " 1   items_count       int64  \n",
      " 2   steam_id          float64\n",
      " 3   item_id           object \n",
      " 4   item_name         object \n",
      " 5   playtime_forever  int64  \n",
      "dtypes: float64(1), int64(2), object(3)\n",
      "memory usage: 235.9+ MB\n"
     ]
    }
   ],
   "source": [
    "df_items['steam_id'] = df_items['steam_id'].apply(float)\n",
    "df_items.info()"
   ]
  },
  {
   "cell_type": "markdown",
   "metadata": {},
   "source": [
    "<b>PlayTimeGenre:</b>       \n",
    "\n",
    "Debe devolver año con mas horas jugadas para dicho género."
   ]
  },
  {
   "cell_type": "code",
   "execution_count": 95,
   "metadata": {},
   "outputs": [
    {
     "name": "stdout",
     "output_type": "stream",
     "text": [
      "<class 'pandas.core.frame.DataFrame'>\n",
      "RangeIndex: 28660 entries, 0 to 28659\n",
      "Data columns (total 14 columns):\n",
      " #   Column        Non-Null Count  Dtype  \n",
      "---  ------        --------------  -----  \n",
      " 0   publisher     23751 non-null  object \n",
      " 1   genres        28660 non-null  object \n",
      " 2   app_name      28659 non-null  object \n",
      " 3   title         28659 non-null  object \n",
      " 4   url           28660 non-null  object \n",
      " 5   release_date  28660 non-null  object \n",
      " 6   tags          28636 non-null  object \n",
      " 7   reviews_url   28659 non-null  object \n",
      " 8   specs         28374 non-null  object \n",
      " 9   price         27615 non-null  object \n",
      " 10  early_access  28660 non-null  object \n",
      " 11  id            28659 non-null  float64\n",
      " 12  developer     28490 non-null  object \n",
      " 13  release_year  28660 non-null  float64\n",
      "dtypes: float64(2), object(12)\n",
      "memory usage: 3.1+ MB\n"
     ]
    }
   ],
   "source": [
    "# Se eliminan los datos nulos de las columnas a consultar\n",
    "df_steams_genre = df_steams.dropna(subset='genres')\n",
    "df_steams_genre.reset_index(inplace=True,drop=True)\n",
    "df_steams_genre = df_steams_genre.dropna(subset='release_year')\n",
    "df_steams_genre.reset_index(inplace=True,drop=True)\n",
    "df_steams_genre.info()"
   ]
  },
  {
   "cell_type": "code",
   "execution_count": 96,
   "metadata": {},
   "outputs": [],
   "source": [
    "# Desanidado de columna genres de dataset df_steams_genre\n",
    "datos = []\n",
    "def genre_reader(df_genre):\n",
    "    try:\n",
    "        for index,line in enumerate(df_genre['genres']):\n",
    "            dato_genres = ast.literal_eval(line) \n",
    "            #pdb.set_trace()\n",
    "            for genre in dato_genres:\n",
    "                #pdb.set_trace()\n",
    "                datos.append([genre,df_genre['release_year'][index],df_genre['app_name'][index],df_genre['title'][index]])\n",
    "    except:\n",
    "        pdb.set_trace()\n",
    "\n",
    "    return pd.DataFrame(datos,columns=['genres','release_year','app_name','title'])"
   ]
  },
  {
   "cell_type": "code",
   "execution_count": 97,
   "metadata": {},
   "outputs": [
    {
     "name": "stdout",
     "output_type": "stream",
     "text": [
      "<class 'pandas.core.frame.DataFrame'>\n",
      "RangeIndex: 341 entries, 0 to 340\n",
      "Data columns (total 3 columns):\n",
      " #   Column                Non-Null Count  Dtype  \n",
      "---  ------                --------------  -----  \n",
      " 0   genres                341 non-null    object \n",
      " 1   release_year          341 non-null    float64\n",
      " 2   Sum_playtime_forever  341 non-null    int64  \n",
      "dtypes: float64(1), int64(1), object(1)\n",
      "memory usage: 8.1+ KB\n"
     ]
    },
    {
     "data": {
      "text/html": [
       "<div>\n",
       "<style scoped>\n",
       "    .dataframe tbody tr th:only-of-type {\n",
       "        vertical-align: middle;\n",
       "    }\n",
       "\n",
       "    .dataframe tbody tr th {\n",
       "        vertical-align: top;\n",
       "    }\n",
       "\n",
       "    .dataframe thead th {\n",
       "        text-align: right;\n",
       "    }\n",
       "</style>\n",
       "<table border=\"1\" class=\"dataframe\">\n",
       "  <thead>\n",
       "    <tr style=\"text-align: right;\">\n",
       "      <th></th>\n",
       "      <th>genres</th>\n",
       "      <th>release_year</th>\n",
       "      <th>Sum_playtime_forever</th>\n",
       "    </tr>\n",
       "  </thead>\n",
       "  <tbody>\n",
       "    <tr>\n",
       "      <th>0</th>\n",
       "      <td>Action</td>\n",
       "      <td>1997.0</td>\n",
       "      <td>271013</td>\n",
       "    </tr>\n",
       "    <tr>\n",
       "      <th>1</th>\n",
       "      <td>Indie</td>\n",
       "      <td>1997.0</td>\n",
       "      <td>64814</td>\n",
       "    </tr>\n",
       "    <tr>\n",
       "      <th>2</th>\n",
       "      <td>Racing</td>\n",
       "      <td>1997.0</td>\n",
       "      <td>9319</td>\n",
       "    </tr>\n",
       "  </tbody>\n",
       "</table>\n",
       "</div>"
      ],
      "text/plain": [
       "   genres  release_year  Sum_playtime_forever\n",
       "0  Action        1997.0                271013\n",
       "1   Indie        1997.0                 64814\n",
       "2  Racing        1997.0                  9319"
      ]
     },
     "execution_count": 97,
     "metadata": {},
     "output_type": "execute_result"
    }
   ],
   "source": [
    "# Se observa que se presentan columna duplicadas\n",
    "df_PlayTimeGenre = genre_reader(df_steams_genre)\n",
    "# Se trabaja con una de las columnas nombre y se rescata solo las columnas de interes\n",
    "df_PlayTimeGenre = df_PlayTimeGenre.merge(df_items,left_on='title', right_on='item_name')\n",
    "df_PlayTimeGenre = df_PlayTimeGenre[['genres','release_year','playtime_forever']]\n",
    "\n",
    "# Se agrupa 'genres','release_year' y se suma la columna 'playtime_forever' segun lo solicitado. \n",
    "# Se utiliza la funcion transform para especificar el contenido de la nueva columna\n",
    "df_PlayTimeGenre['Sum_playtime_forever'] = df_PlayTimeGenre.groupby(['genres','release_year'])['playtime_forever'].transform('sum')\n",
    "\n",
    "# Se elimina la columna 'playtime_forever' que ya se utilizo para la suma y se quita duplicados generados en group by\n",
    "df_PlayTimeGenre.drop(columns='playtime_forever',inplace=True)\n",
    "df_PlayTimeGenre.drop_duplicates(subset=['genres','release_year'],inplace=True)\n",
    "df_PlayTimeGenre.reset_index(drop=True,inplace=True)\n",
    "df_PlayTimeGenre.info()\n",
    "df_PlayTimeGenre.head(3)"
   ]
  },
  {
   "cell_type": "code",
   "execution_count": 98,
   "metadata": {},
   "outputs": [],
   "source": [
    "# Funcion de consulta por genero el año de mayor cantidad de horas acumuladas\n",
    "def PlayTimeGenre(genre):\n",
    "    anio = df_PlayTimeGenre['release_year'][df_PlayTimeGenre['Sum_playtime_forever'][df_PlayTimeGenre['genres'] == genre].idxmax()]\n",
    "    return str('Año de lanzamiento con más horas jugadas para Género ' + genre + ': ' + str(anio))"
   ]
  },
  {
   "cell_type": "code",
   "execution_count": 99,
   "metadata": {},
   "outputs": [
    {
     "data": {
      "text/plain": [
       "'Año de lanzamiento con más horas jugadas para Género Action: 2012'"
      ]
     },
     "execution_count": 99,
     "metadata": {},
     "output_type": "execute_result"
    }
   ],
   "source": [
    "genre = 'Action'\n",
    "anio = 2012\n",
    "'Año de lanzamiento con más horas jugadas para Género ' + genre + ': ' + str(anio)"
   ]
  },
  {
   "cell_type": "code",
   "execution_count": 100,
   "metadata": {},
   "outputs": [
    {
     "name": "stderr",
     "output_type": "stream",
     "text": [
      "C:\\Users\\DELL\\AppData\\Local\\Temp\\ipykernel_14948\\2605478342.py:1: UserWarning: Boolean Series key will be reindexed to match DataFrame index.\n",
      "  df_PlayTimeGenre[df_PlayTimeGenre['genres'] == 'Action'][df_PlayTimeGenre['genres'] == 'Action']\n"
     ]
    },
    {
     "data": {
      "text/html": [
       "<div>\n",
       "<style scoped>\n",
       "    .dataframe tbody tr th:only-of-type {\n",
       "        vertical-align: middle;\n",
       "    }\n",
       "\n",
       "    .dataframe tbody tr th {\n",
       "        vertical-align: top;\n",
       "    }\n",
       "\n",
       "    .dataframe thead th {\n",
       "        text-align: right;\n",
       "    }\n",
       "</style>\n",
       "<table border=\"1\" class=\"dataframe\">\n",
       "  <thead>\n",
       "    <tr style=\"text-align: right;\">\n",
       "      <th></th>\n",
       "      <th>genres</th>\n",
       "      <th>release_year</th>\n",
       "      <th>Sum_playtime_forever</th>\n",
       "    </tr>\n",
       "  </thead>\n",
       "  <tbody>\n",
       "    <tr>\n",
       "      <th>0</th>\n",
       "      <td>Action</td>\n",
       "      <td>1997.0</td>\n",
       "      <td>271013</td>\n",
       "    </tr>\n",
       "    <tr>\n",
       "      <th>3</th>\n",
       "      <td>Action</td>\n",
       "      <td>1998.0</td>\n",
       "      <td>2809535</td>\n",
       "    </tr>\n",
       "    <tr>\n",
       "      <th>5</th>\n",
       "      <td>Action</td>\n",
       "      <td>2005.0</td>\n",
       "      <td>6015794</td>\n",
       "    </tr>\n",
       "    <tr>\n",
       "      <th>13</th>\n",
       "      <td>Action</td>\n",
       "      <td>2000.0</td>\n",
       "      <td>18553775</td>\n",
       "    </tr>\n",
       "    <tr>\n",
       "      <th>17</th>\n",
       "      <td>Action</td>\n",
       "      <td>2007.0</td>\n",
       "      <td>11309542</td>\n",
       "    </tr>\n",
       "    <tr>\n",
       "      <th>19</th>\n",
       "      <td>Action</td>\n",
       "      <td>1996.0</td>\n",
       "      <td>51726</td>\n",
       "    </tr>\n",
       "    <tr>\n",
       "      <th>20</th>\n",
       "      <td>Action</td>\n",
       "      <td>1994.0</td>\n",
       "      <td>40603</td>\n",
       "    </tr>\n",
       "    <tr>\n",
       "      <th>21</th>\n",
       "      <td>Action</td>\n",
       "      <td>2001.0</td>\n",
       "      <td>1255120</td>\n",
       "    </tr>\n",
       "    <tr>\n",
       "      <th>22</th>\n",
       "      <td>Action</td>\n",
       "      <td>2003.0</td>\n",
       "      <td>9906989</td>\n",
       "    </tr>\n",
       "    <tr>\n",
       "      <th>24</th>\n",
       "      <td>Action</td>\n",
       "      <td>1999.0</td>\n",
       "      <td>2721215</td>\n",
       "    </tr>\n",
       "    <tr>\n",
       "      <th>25</th>\n",
       "      <td>Action</td>\n",
       "      <td>2004.0</td>\n",
       "      <td>130469301</td>\n",
       "    </tr>\n",
       "    <tr>\n",
       "      <th>26</th>\n",
       "      <td>Action</td>\n",
       "      <td>2006.0</td>\n",
       "      <td>6856912</td>\n",
       "    </tr>\n",
       "    <tr>\n",
       "      <th>30</th>\n",
       "      <td>Action</td>\n",
       "      <td>2008.0</td>\n",
       "      <td>27890827</td>\n",
       "    </tr>\n",
       "    <tr>\n",
       "      <th>45</th>\n",
       "      <td>Action</td>\n",
       "      <td>2002.0</td>\n",
       "      <td>725264</td>\n",
       "    </tr>\n",
       "    <tr>\n",
       "      <th>47</th>\n",
       "      <td>Action</td>\n",
       "      <td>2009.0</td>\n",
       "      <td>154187567</td>\n",
       "    </tr>\n",
       "    <tr>\n",
       "      <th>67</th>\n",
       "      <td>Action</td>\n",
       "      <td>2010.0</td>\n",
       "      <td>105700067</td>\n",
       "    </tr>\n",
       "    <tr>\n",
       "      <th>71</th>\n",
       "      <td>Action</td>\n",
       "      <td>2011.0</td>\n",
       "      <td>303958972</td>\n",
       "    </tr>\n",
       "    <tr>\n",
       "      <th>101</th>\n",
       "      <td>Action</td>\n",
       "      <td>2012.0</td>\n",
       "      <td>1021522835</td>\n",
       "    </tr>\n",
       "    <tr>\n",
       "      <th>114</th>\n",
       "      <td>Action</td>\n",
       "      <td>2013.0</td>\n",
       "      <td>398117536</td>\n",
       "    </tr>\n",
       "    <tr>\n",
       "      <th>125</th>\n",
       "      <td>Action</td>\n",
       "      <td>1983.0</td>\n",
       "      <td>3582</td>\n",
       "    </tr>\n",
       "    <tr>\n",
       "      <th>129</th>\n",
       "      <td>Action</td>\n",
       "      <td>1984.0</td>\n",
       "      <td>384</td>\n",
       "    </tr>\n",
       "    <tr>\n",
       "      <th>132</th>\n",
       "      <td>Action</td>\n",
       "      <td>2015.0</td>\n",
       "      <td>170386193</td>\n",
       "    </tr>\n",
       "    <tr>\n",
       "      <th>134</th>\n",
       "      <td>Action</td>\n",
       "      <td>2014.0</td>\n",
       "      <td>133207903</td>\n",
       "    </tr>\n",
       "    <tr>\n",
       "      <th>176</th>\n",
       "      <td>Action</td>\n",
       "      <td>2016.0</td>\n",
       "      <td>63062093</td>\n",
       "    </tr>\n",
       "    <tr>\n",
       "      <th>216</th>\n",
       "      <td>Action</td>\n",
       "      <td>2017.0</td>\n",
       "      <td>126299093</td>\n",
       "    </tr>\n",
       "    <tr>\n",
       "      <th>228</th>\n",
       "      <td>Action</td>\n",
       "      <td>1990.0</td>\n",
       "      <td>69</td>\n",
       "    </tr>\n",
       "    <tr>\n",
       "      <th>232</th>\n",
       "      <td>Action</td>\n",
       "      <td>1993.0</td>\n",
       "      <td>12199</td>\n",
       "    </tr>\n",
       "    <tr>\n",
       "      <th>242</th>\n",
       "      <td>Action</td>\n",
       "      <td>1995.0</td>\n",
       "      <td>64605</td>\n",
       "    </tr>\n",
       "    <tr>\n",
       "      <th>285</th>\n",
       "      <td>Action</td>\n",
       "      <td>2018.0</td>\n",
       "      <td>2224</td>\n",
       "    </tr>\n",
       "    <tr>\n",
       "      <th>313</th>\n",
       "      <td>Action</td>\n",
       "      <td>1988.0</td>\n",
       "      <td>16243</td>\n",
       "    </tr>\n",
       "    <tr>\n",
       "      <th>315</th>\n",
       "      <td>Action</td>\n",
       "      <td>1989.0</td>\n",
       "      <td>607</td>\n",
       "    </tr>\n",
       "    <tr>\n",
       "      <th>317</th>\n",
       "      <td>Action</td>\n",
       "      <td>1991.0</td>\n",
       "      <td>2502</td>\n",
       "    </tr>\n",
       "    <tr>\n",
       "      <th>319</th>\n",
       "      <td>Action</td>\n",
       "      <td>1992.0</td>\n",
       "      <td>1925</td>\n",
       "    </tr>\n",
       "  </tbody>\n",
       "</table>\n",
       "</div>"
      ],
      "text/plain": [
       "     genres  release_year  Sum_playtime_forever\n",
       "0    Action        1997.0                271013\n",
       "3    Action        1998.0               2809535\n",
       "5    Action        2005.0               6015794\n",
       "13   Action        2000.0              18553775\n",
       "17   Action        2007.0              11309542\n",
       "19   Action        1996.0                 51726\n",
       "20   Action        1994.0                 40603\n",
       "21   Action        2001.0               1255120\n",
       "22   Action        2003.0               9906989\n",
       "24   Action        1999.0               2721215\n",
       "25   Action        2004.0             130469301\n",
       "26   Action        2006.0               6856912\n",
       "30   Action        2008.0              27890827\n",
       "45   Action        2002.0                725264\n",
       "47   Action        2009.0             154187567\n",
       "67   Action        2010.0             105700067\n",
       "71   Action        2011.0             303958972\n",
       "101  Action        2012.0            1021522835\n",
       "114  Action        2013.0             398117536\n",
       "125  Action        1983.0                  3582\n",
       "129  Action        1984.0                   384\n",
       "132  Action        2015.0             170386193\n",
       "134  Action        2014.0             133207903\n",
       "176  Action        2016.0              63062093\n",
       "216  Action        2017.0             126299093\n",
       "228  Action        1990.0                    69\n",
       "232  Action        1993.0                 12199\n",
       "242  Action        1995.0                 64605\n",
       "285  Action        2018.0                  2224\n",
       "313  Action        1988.0                 16243\n",
       "315  Action        1989.0                   607\n",
       "317  Action        1991.0                  2502\n",
       "319  Action        1992.0                  1925"
      ]
     },
     "execution_count": 100,
     "metadata": {},
     "output_type": "execute_result"
    }
   ],
   "source": [
    "df_PlayTimeGenre[df_PlayTimeGenre['genres'] == 'Action'][df_PlayTimeGenre['genres'] == 'Action']"
   ]
  },
  {
   "cell_type": "code",
   "execution_count": 101,
   "metadata": {},
   "outputs": [
    {
     "data": {
      "text/plain": [
       "'Año de lanzamiento con más horas jugadas para Género Action: 2012.0'"
      ]
     },
     "execution_count": 101,
     "metadata": {},
     "output_type": "execute_result"
    }
   ],
   "source": [
    "# Prueba\n",
    "PlayTimeGenre('Action')"
   ]
  },
  {
   "cell_type": "markdown",
   "metadata": {},
   "source": [
    "<b>UserForGenre:</b>       \n",
    "\n",
    "Debe devolver el usuario que acumula más horas jugadas para el género dado y una lista de la acumulación de horas jugadas por año. Es similar la funcion PlayTimeGenre, pero se agrega usuario y lista de juegos con horas jugadas"
   ]
  },
  {
   "cell_type": "code",
   "execution_count": 102,
   "metadata": {},
   "outputs": [],
   "source": [
    "# Consulta de generos desanidados y merge con dataframe items\n",
    "df_UserForGenre = genre_reader(df_steams_genre)\n",
    "df_UserForGenre = df_UserForGenre.merge(df_items,left_on='title', right_on='item_name')\n",
    "df_UserForGenre = df_UserForGenre[['genres','user_id','release_year','playtime_forever']]\n"
   ]
  },
  {
   "cell_type": "code",
   "execution_count": 103,
   "metadata": {},
   "outputs": [],
   "source": [
    "# Agrupado segun lo requerido\n",
    "df_UserForGenre['Sum_playtime_year'] = df_UserForGenre.groupby(['genres','user_id','release_year'])['playtime_forever'].transform('sum')\n",
    "df_UserForGenre.drop(columns='playtime_forever',inplace=True)\n",
    "df_UserForGenre.drop_duplicates(subset=['genres','user_id','release_year'],inplace=True)\n",
    "df_UserForGenre.reset_index(drop=True,inplace=True)\n",
    "df_UserForGenre_group = df_UserForGenre.copy()"
   ]
  },
  {
   "cell_type": "code",
   "execution_count": 104,
   "metadata": {},
   "outputs": [
    {
     "data": {
      "text/html": [
       "<div>\n",
       "<style scoped>\n",
       "    .dataframe tbody tr th:only-of-type {\n",
       "        vertical-align: middle;\n",
       "    }\n",
       "\n",
       "    .dataframe tbody tr th {\n",
       "        vertical-align: top;\n",
       "    }\n",
       "\n",
       "    .dataframe thead th {\n",
       "        text-align: right;\n",
       "    }\n",
       "</style>\n",
       "<table border=\"1\" class=\"dataframe\">\n",
       "  <thead>\n",
       "    <tr style=\"text-align: right;\">\n",
       "      <th></th>\n",
       "      <th>genres</th>\n",
       "      <th>user_id</th>\n",
       "      <th>release_year</th>\n",
       "      <th>Sum_playtime_year</th>\n",
       "    </tr>\n",
       "  </thead>\n",
       "  <tbody>\n",
       "    <tr>\n",
       "      <th>0</th>\n",
       "      <td>Action</td>\n",
       "      <td>UTNerd24</td>\n",
       "      <td>1997.0</td>\n",
       "      <td>2386</td>\n",
       "    </tr>\n",
       "    <tr>\n",
       "      <th>1</th>\n",
       "      <td>Action</td>\n",
       "      <td>I_DID_911_JUST_SAYING</td>\n",
       "      <td>1997.0</td>\n",
       "      <td>0</td>\n",
       "    </tr>\n",
       "    <tr>\n",
       "      <th>2</th>\n",
       "      <td>Action</td>\n",
       "      <td>76561197962104795</td>\n",
       "      <td>1997.0</td>\n",
       "      <td>0</td>\n",
       "    </tr>\n",
       "  </tbody>\n",
       "</table>\n",
       "</div>"
      ],
      "text/plain": [
       "   genres                user_id  release_year  Sum_playtime_year\n",
       "0  Action               UTNerd24        1997.0               2386\n",
       "1  Action  I_DID_911_JUST_SAYING        1997.0                  0\n",
       "2  Action      76561197962104795        1997.0                  0"
      ]
     },
     "execution_count": 104,
     "metadata": {},
     "output_type": "execute_result"
    }
   ],
   "source": [
    "df_UserForGenre_group.head(3)"
   ]
  },
  {
   "cell_type": "code",
   "execution_count": 105,
   "metadata": {},
   "outputs": [
    {
     "data": {
      "text/plain": [
       "0                        Action\n",
       "1                         Indie\n",
       "2                        Racing\n",
       "3                      Strategy\n",
       "4                    Simulation\n",
       "5                        Casual\n",
       "6                     Adventure\n",
       "7                           RPG\n",
       "8                        Sports\n",
       "9                  Free to Play\n",
       "10        Massively Multiplayer\n",
       "11                 Early Access\n",
       "12                    Education\n",
       "13            Software Training\n",
       "14                    Utilities\n",
       "15               Web Publishing\n",
       "16    Design &amp; Illustration\n",
       "17     Animation &amp; Modeling\n",
       "18                Photo Editing\n",
       "19             Audio Production\n",
       "20             Video Production\n",
       "Name: genres, dtype: object"
      ]
     },
     "execution_count": 105,
     "metadata": {},
     "output_type": "execute_result"
    }
   ],
   "source": [
    "df_genres = df_UserForGenre_group['genres']\n",
    "df_genres.drop_duplicates(inplace=True)\n",
    "df_genres.reset_index(drop=True,inplace=True)\n",
    "df_genres"
   ]
  },
  {
   "cell_type": "code",
   "execution_count": 106,
   "metadata": {},
   "outputs": [],
   "source": [
    "# Funcion de agrupamiento y consulta\n",
    "def UserForGenre(genre):\n",
    "    # Captando el maximo de tiempo\n",
    "    user = df_UserForGenre_group['user_id'][df_UserForGenre_group['Sum_playtime_year'][df_UserForGenre_group['genres'] == genre].idxmax()]\n",
    "    lista = df_UserForGenre_group[df_UserForGenre_group['genres'] == genre][df_UserForGenre_group['user_id'] == user]\n",
    "    lista = lista[['release_year','Sum_playtime_year']]\n",
    "    lista.sort_values(by = ['release_year'], inplace = True)\n",
    "    lista.reset_index(drop = True,inplace = True)\n",
    "    #pdb.set_trace()\n",
    "    lista_str = ''\n",
    "    for index,line in enumerate(lista['release_year']):\n",
    "        # El tiempo estaba en minutos, se convierten a horas y redondea 2 decimales por presentacion\n",
    "        horas = str(round(lista['Sum_playtime_year'][index]/60,2))\n",
    "        lista_str = lista_str + str(' Año:' +str(int(line)) + ' Horas: '+ horas)\n",
    "    return {'user' : user, 'lista' : lista_str}"
   ]
  },
  {
   "cell_type": "code",
   "execution_count": 107,
   "metadata": {},
   "outputs": [
    {
     "name": "stderr",
     "output_type": "stream",
     "text": [
      "C:\\Users\\DELL\\AppData\\Local\\Temp\\ipykernel_14948\\3567891882.py:5: UserWarning: Boolean Series key will be reindexed to match DataFrame index.\n",
      "  lista = df_UserForGenre_group[df_UserForGenre_group['genres'] == genre][df_UserForGenre_group['user_id'] == user]\n"
     ]
    }
   ],
   "source": [
    "data = UserForGenre('Action')"
   ]
  },
  {
   "cell_type": "code",
   "execution_count": 108,
   "metadata": {},
   "outputs": [
    {
     "data": {
      "text/plain": [
       "{'user': 'Evilutional',\n",
       " 'lista': ' Año:2003 Horas: 0.0 Año:2006 Horas: 0.0 Año:2009 Horas: 116.43 Año:2010 Horas: 5.07 Año:2011 Horas: 54.83 Año:2012 Horas: 22609.63 Año:2013 Horas: 2324.2 Año:2014 Horas: 68.37 Año:2015 Horas: 3.73 Año:2017 Horas: 363.13'}"
      ]
     },
     "execution_count": 108,
     "metadata": {},
     "output_type": "execute_result"
    }
   ],
   "source": [
    "data"
   ]
  },
  {
   "cell_type": "code",
   "execution_count": 109,
   "metadata": {},
   "outputs": [
    {
     "name": "stderr",
     "output_type": "stream",
     "text": [
      "C:\\Users\\DELL\\AppData\\Local\\Temp\\ipykernel_14948\\3567891882.py:5: UserWarning: Boolean Series key will be reindexed to match DataFrame index.\n",
      "  lista = df_UserForGenre_group[df_UserForGenre_group['genres'] == genre][df_UserForGenre_group['user_id'] == user]\n",
      "C:\\Users\\DELL\\AppData\\Local\\Temp\\ipykernel_14948\\3567891882.py:5: UserWarning: Boolean Series key will be reindexed to match DataFrame index.\n",
      "  lista = df_UserForGenre_group[df_UserForGenre_group['genres'] == genre][df_UserForGenre_group['user_id'] == user]\n",
      "C:\\Users\\DELL\\AppData\\Local\\Temp\\ipykernel_14948\\3567891882.py:5: UserWarning: Boolean Series key will be reindexed to match DataFrame index.\n",
      "  lista = df_UserForGenre_group[df_UserForGenre_group['genres'] == genre][df_UserForGenre_group['user_id'] == user]\n",
      "C:\\Users\\DELL\\AppData\\Local\\Temp\\ipykernel_14948\\3567891882.py:5: UserWarning: Boolean Series key will be reindexed to match DataFrame index.\n",
      "  lista = df_UserForGenre_group[df_UserForGenre_group['genres'] == genre][df_UserForGenre_group['user_id'] == user]\n",
      "C:\\Users\\DELL\\AppData\\Local\\Temp\\ipykernel_14948\\3567891882.py:5: UserWarning: Boolean Series key will be reindexed to match DataFrame index.\n",
      "  lista = df_UserForGenre_group[df_UserForGenre_group['genres'] == genre][df_UserForGenre_group['user_id'] == user]\n",
      "C:\\Users\\DELL\\AppData\\Local\\Temp\\ipykernel_14948\\3567891882.py:5: UserWarning: Boolean Series key will be reindexed to match DataFrame index.\n",
      "  lista = df_UserForGenre_group[df_UserForGenre_group['genres'] == genre][df_UserForGenre_group['user_id'] == user]\n",
      "C:\\Users\\DELL\\AppData\\Local\\Temp\\ipykernel_14948\\3567891882.py:5: UserWarning: Boolean Series key will be reindexed to match DataFrame index.\n",
      "  lista = df_UserForGenre_group[df_UserForGenre_group['genres'] == genre][df_UserForGenre_group['user_id'] == user]\n",
      "C:\\Users\\DELL\\AppData\\Local\\Temp\\ipykernel_14948\\3567891882.py:5: UserWarning: Boolean Series key will be reindexed to match DataFrame index.\n",
      "  lista = df_UserForGenre_group[df_UserForGenre_group['genres'] == genre][df_UserForGenre_group['user_id'] == user]\n",
      "C:\\Users\\DELL\\AppData\\Local\\Temp\\ipykernel_14948\\3567891882.py:5: UserWarning: Boolean Series key will be reindexed to match DataFrame index.\n",
      "  lista = df_UserForGenre_group[df_UserForGenre_group['genres'] == genre][df_UserForGenre_group['user_id'] == user]\n",
      "C:\\Users\\DELL\\AppData\\Local\\Temp\\ipykernel_14948\\3567891882.py:5: UserWarning: Boolean Series key will be reindexed to match DataFrame index.\n",
      "  lista = df_UserForGenre_group[df_UserForGenre_group['genres'] == genre][df_UserForGenre_group['user_id'] == user]\n",
      "C:\\Users\\DELL\\AppData\\Local\\Temp\\ipykernel_14948\\3567891882.py:5: UserWarning: Boolean Series key will be reindexed to match DataFrame index.\n",
      "  lista = df_UserForGenre_group[df_UserForGenre_group['genres'] == genre][df_UserForGenre_group['user_id'] == user]\n",
      "C:\\Users\\DELL\\AppData\\Local\\Temp\\ipykernel_14948\\3567891882.py:5: UserWarning: Boolean Series key will be reindexed to match DataFrame index.\n",
      "  lista = df_UserForGenre_group[df_UserForGenre_group['genres'] == genre][df_UserForGenre_group['user_id'] == user]\n",
      "C:\\Users\\DELL\\AppData\\Local\\Temp\\ipykernel_14948\\3567891882.py:5: UserWarning: Boolean Series key will be reindexed to match DataFrame index.\n",
      "  lista = df_UserForGenre_group[df_UserForGenre_group['genres'] == genre][df_UserForGenre_group['user_id'] == user]\n",
      "C:\\Users\\DELL\\AppData\\Local\\Temp\\ipykernel_14948\\3567891882.py:5: UserWarning: Boolean Series key will be reindexed to match DataFrame index.\n",
      "  lista = df_UserForGenre_group[df_UserForGenre_group['genres'] == genre][df_UserForGenre_group['user_id'] == user]\n",
      "C:\\Users\\DELL\\AppData\\Local\\Temp\\ipykernel_14948\\3567891882.py:5: UserWarning: Boolean Series key will be reindexed to match DataFrame index.\n",
      "  lista = df_UserForGenre_group[df_UserForGenre_group['genres'] == genre][df_UserForGenre_group['user_id'] == user]\n",
      "C:\\Users\\DELL\\AppData\\Local\\Temp\\ipykernel_14948\\3567891882.py:5: UserWarning: Boolean Series key will be reindexed to match DataFrame index.\n",
      "  lista = df_UserForGenre_group[df_UserForGenre_group['genres'] == genre][df_UserForGenre_group['user_id'] == user]\n",
      "C:\\Users\\DELL\\AppData\\Local\\Temp\\ipykernel_14948\\3567891882.py:5: UserWarning: Boolean Series key will be reindexed to match DataFrame index.\n",
      "  lista = df_UserForGenre_group[df_UserForGenre_group['genres'] == genre][df_UserForGenre_group['user_id'] == user]\n",
      "C:\\Users\\DELL\\AppData\\Local\\Temp\\ipykernel_14948\\3567891882.py:5: UserWarning: Boolean Series key will be reindexed to match DataFrame index.\n",
      "  lista = df_UserForGenre_group[df_UserForGenre_group['genres'] == genre][df_UserForGenre_group['user_id'] == user]\n",
      "C:\\Users\\DELL\\AppData\\Local\\Temp\\ipykernel_14948\\3567891882.py:5: UserWarning: Boolean Series key will be reindexed to match DataFrame index.\n",
      "  lista = df_UserForGenre_group[df_UserForGenre_group['genres'] == genre][df_UserForGenre_group['user_id'] == user]\n",
      "C:\\Users\\DELL\\AppData\\Local\\Temp\\ipykernel_14948\\3567891882.py:5: UserWarning: Boolean Series key will be reindexed to match DataFrame index.\n",
      "  lista = df_UserForGenre_group[df_UserForGenre_group['genres'] == genre][df_UserForGenre_group['user_id'] == user]\n",
      "C:\\Users\\DELL\\AppData\\Local\\Temp\\ipykernel_14948\\3567891882.py:5: UserWarning: Boolean Series key will be reindexed to match DataFrame index.\n",
      "  lista = df_UserForGenre_group[df_UserForGenre_group['genres'] == genre][df_UserForGenre_group['user_id'] == user]\n"
     ]
    }
   ],
   "source": [
    "\n",
    "def UserForGenre_total():\n",
    "    return {genre: UserForGenre(genre) for genre in df_genres}\n",
    "df_UserForGenre_Total = UserForGenre_total()"
   ]
  },
  {
   "cell_type": "code",
   "execution_count": 110,
   "metadata": {},
   "outputs": [
    {
     "data": {
      "text/plain": [
       "{'user': 'REBAS_AS_F-T',\n",
       " 'lista': ' Año:1999 Horas: 0.0 Año:2001 Horas: 0.37 Año:2003 Horas: 62.1 Año:2005 Horas: 0.0 Año:2006 Horas: 55.77 Año:2007 Horas: 0.0 Año:2008 Horas: 45.53 Año:2009 Horas: 901.0 Año:2010 Horas: 716.2 Año:2011 Horas: 2832.9 Año:2012 Horas: 4031.33 Año:2013 Horas: 5435.53 Año:2014 Horas: 9331.0 Año:2015 Horas: 23997.83 Año:2016 Horas: 25836.23 Año:2017 Horas: 1072.03'}"
      ]
     },
     "execution_count": 110,
     "metadata": {},
     "output_type": "execute_result"
    }
   ],
   "source": [
    "df_UserForGenre_Total.get('Indie')"
   ]
  },
  {
   "cell_type": "code",
   "execution_count": 111,
   "metadata": {},
   "outputs": [
    {
     "data": {
      "text/html": [
       "<div>\n",
       "<style scoped>\n",
       "    .dataframe tbody tr th:only-of-type {\n",
       "        vertical-align: middle;\n",
       "    }\n",
       "\n",
       "    .dataframe tbody tr th {\n",
       "        vertical-align: top;\n",
       "    }\n",
       "\n",
       "    .dataframe thead th {\n",
       "        text-align: right;\n",
       "    }\n",
       "</style>\n",
       "<table border=\"1\" class=\"dataframe\">\n",
       "  <thead>\n",
       "    <tr style=\"text-align: right;\">\n",
       "      <th></th>\n",
       "      <th>Action</th>\n",
       "      <th>Indie</th>\n",
       "      <th>Racing</th>\n",
       "      <th>Strategy</th>\n",
       "      <th>Simulation</th>\n",
       "      <th>Casual</th>\n",
       "      <th>Adventure</th>\n",
       "      <th>RPG</th>\n",
       "      <th>Sports</th>\n",
       "      <th>Free to Play</th>\n",
       "      <th>...</th>\n",
       "      <th>Early Access</th>\n",
       "      <th>Education</th>\n",
       "      <th>Software Training</th>\n",
       "      <th>Utilities</th>\n",
       "      <th>Web Publishing</th>\n",
       "      <th>Design &amp;amp; Illustration</th>\n",
       "      <th>Animation &amp;amp; Modeling</th>\n",
       "      <th>Photo Editing</th>\n",
       "      <th>Audio Production</th>\n",
       "      <th>Video Production</th>\n",
       "    </tr>\n",
       "  </thead>\n",
       "  <tbody>\n",
       "    <tr>\n",
       "      <th>user</th>\n",
       "      <td>Evilutional</td>\n",
       "      <td>REBAS_AS_F-T</td>\n",
       "      <td>DownSyndromeKid</td>\n",
       "      <td>shinomegami</td>\n",
       "      <td>clawbot44</td>\n",
       "      <td>idonothack</td>\n",
       "      <td>REBAS_AS_F-T</td>\n",
       "      <td>Evilutional</td>\n",
       "      <td>1silentsniper1</td>\n",
       "      <td>idonothack</td>\n",
       "      <td>...</td>\n",
       "      <td>76561197978756659</td>\n",
       "      <td>76561198059330972</td>\n",
       "      <td>Lickidactyl</td>\n",
       "      <td>76561198073642113</td>\n",
       "      <td>76561198035718256</td>\n",
       "      <td>76561198035718256</td>\n",
       "      <td>76561198059330972</td>\n",
       "      <td>Colidos</td>\n",
       "      <td>Lickidactyl</td>\n",
       "      <td>Lickidactyl</td>\n",
       "    </tr>\n",
       "    <tr>\n",
       "      <th>lista</th>\n",
       "      <td>Año:2003 Horas: 0.0 Año:2006 Horas: 0.0 Año:2...</td>\n",
       "      <td>Año:1999 Horas: 0.0 Año:2001 Horas: 0.37 Año:...</td>\n",
       "      <td>Año:1994 Horas: 0.0 Año:1995 Horas: 10.6 Año:...</td>\n",
       "      <td>Año:1993 Horas: 733.37 Año:1997 Horas: 0.0 Añ...</td>\n",
       "      <td>Año:2006 Horas: 24105.4 Año:2007 Horas: 35.47...</td>\n",
       "      <td>Año:1994 Horas: 0.0 Año:2002 Horas: 0.0 Año:2...</td>\n",
       "      <td>Año:2002 Horas: 0.0 Año:2003 Horas: 62.1 Año:...</td>\n",
       "      <td>Año:2011 Horas: 53.8 Año:2012 Horas: 21319.17...</td>\n",
       "      <td>Año:2009 Horas: 9.13 Año:2013 Horas: 83.73 Añ...</td>\n",
       "      <td>Año:2003 Horas: 0.0 Año:2006 Horas: 0.6 Año:2...</td>\n",
       "      <td>...</td>\n",
       "      <td>Año:2013 Horas: 10559.53 Año:2015 Horas: 6.1</td>\n",
       "      <td>Año:2013 Horas: 2180.9</td>\n",
       "      <td>Año:2014 Horas: 3663.87</td>\n",
       "      <td>Año:2014 Horas: 6921.7</td>\n",
       "      <td>Año:2012 Horas: 3418.47 Año:2015 Horas: 414.27</td>\n",
       "      <td>Año:2012 Horas: 3418.47 Año:2015 Horas: 414.27</td>\n",
       "      <td>Año:2013 Horas: 2203.47</td>\n",
       "      <td>Año:2016 Horas: 250.7</td>\n",
       "      <td>Año:2014 Horas: 3663.87</td>\n",
       "      <td>Año:2014 Horas: 3663.87</td>\n",
       "    </tr>\n",
       "  </tbody>\n",
       "</table>\n",
       "<p>2 rows × 21 columns</p>\n",
       "</div>"
      ],
      "text/plain": [
       "                                                  Action  \\\n",
       "user                                         Evilutional   \n",
       "lista   Año:2003 Horas: 0.0 Año:2006 Horas: 0.0 Año:2...   \n",
       "\n",
       "                                                   Indie  \\\n",
       "user                                        REBAS_AS_F-T   \n",
       "lista   Año:1999 Horas: 0.0 Año:2001 Horas: 0.37 Año:...   \n",
       "\n",
       "                                                  Racing  \\\n",
       "user                                     DownSyndromeKid   \n",
       "lista   Año:1994 Horas: 0.0 Año:1995 Horas: 10.6 Año:...   \n",
       "\n",
       "                                                Strategy  \\\n",
       "user                                         shinomegami   \n",
       "lista   Año:1993 Horas: 733.37 Año:1997 Horas: 0.0 Añ...   \n",
       "\n",
       "                                              Simulation  \\\n",
       "user                                           clawbot44   \n",
       "lista   Año:2006 Horas: 24105.4 Año:2007 Horas: 35.47...   \n",
       "\n",
       "                                                  Casual  \\\n",
       "user                                          idonothack   \n",
       "lista   Año:1994 Horas: 0.0 Año:2002 Horas: 0.0 Año:2...   \n",
       "\n",
       "                                               Adventure  \\\n",
       "user                                        REBAS_AS_F-T   \n",
       "lista   Año:2002 Horas: 0.0 Año:2003 Horas: 62.1 Año:...   \n",
       "\n",
       "                                                     RPG  \\\n",
       "user                                         Evilutional   \n",
       "lista   Año:2011 Horas: 53.8 Año:2012 Horas: 21319.17...   \n",
       "\n",
       "                                                  Sports  \\\n",
       "user                                      1silentsniper1   \n",
       "lista   Año:2009 Horas: 9.13 Año:2013 Horas: 83.73 Añ...   \n",
       "\n",
       "                                            Free to Play  ...  \\\n",
       "user                                          idonothack  ...   \n",
       "lista   Año:2003 Horas: 0.0 Año:2006 Horas: 0.6 Año:2...  ...   \n",
       "\n",
       "                                        Early Access                Education  \\\n",
       "user                               76561197978756659        76561198059330972   \n",
       "lista   Año:2013 Horas: 10559.53 Año:2015 Horas: 6.1   Año:2013 Horas: 2180.9   \n",
       "\n",
       "              Software Training                Utilities  \\\n",
       "user                Lickidactyl        76561198073642113   \n",
       "lista   Año:2014 Horas: 3663.87   Año:2014 Horas: 6921.7   \n",
       "\n",
       "                                        Web Publishing  \\\n",
       "user                                 76561198035718256   \n",
       "lista   Año:2012 Horas: 3418.47 Año:2015 Horas: 414.27   \n",
       "\n",
       "                             Design &amp; Illustration  \\\n",
       "user                                 76561198035718256   \n",
       "lista   Año:2012 Horas: 3418.47 Año:2015 Horas: 414.27   \n",
       "\n",
       "       Animation &amp; Modeling           Photo Editing  \\\n",
       "user          76561198059330972                 Colidos   \n",
       "lista   Año:2013 Horas: 2203.47   Año:2016 Horas: 250.7   \n",
       "\n",
       "               Audio Production          Video Production  \n",
       "user                Lickidactyl               Lickidactyl  \n",
       "lista   Año:2014 Horas: 3663.87   Año:2014 Horas: 3663.87  \n",
       "\n",
       "[2 rows x 21 columns]"
      ]
     },
     "execution_count": 111,
     "metadata": {},
     "output_type": "execute_result"
    }
   ],
   "source": [
    "df_UserForGenre_Total = pd.DataFrame(df_UserForGenre_Total)\n",
    "df_UserForGenre_Total"
   ]
  },
  {
   "cell_type": "code",
   "execution_count": 112,
   "metadata": {},
   "outputs": [
    {
     "data": {
      "text/plain": [
       "'Evilutional'"
      ]
     },
     "execution_count": 112,
     "metadata": {},
     "output_type": "execute_result"
    }
   ],
   "source": [
    "df_UserForGenre_Total['Action']['user']"
   ]
  },
  {
   "cell_type": "markdown",
   "metadata": {},
   "source": [
    "<b>UsersRecommend:</b>       \n",
    "\n",
    "Devuelve el top 3 de juegos MÁS recomendados por usuarios para el año dado. (reviews.recommend = True y comentarios positivos/neutrales)"
   ]
  },
  {
   "cell_type": "code",
   "execution_count": 113,
   "metadata": {},
   "outputs": [
    {
     "name": "stdout",
     "output_type": "stream",
     "text": [
      "<class 'pandas.core.frame.DataFrame'>\n",
      "RangeIndex: 49186 entries, 0 to 49185\n",
      "Data columns (total 6 columns):\n",
      " #   Column              Non-Null Count  Dtype \n",
      "---  ------              --------------  ----- \n",
      " 0   user_id             49186 non-null  object\n",
      " 1   item_id             49186 non-null  object\n",
      " 2   recommend           49186 non-null  bool  \n",
      " 3   review              49186 non-null  object\n",
      " 4   year_posted         49186 non-null  int64 \n",
      " 5   sentiment_analysis  49186 non-null  int64 \n",
      "dtypes: bool(1), int64(2), object(3)\n",
      "memory usage: 1.9+ MB\n"
     ]
    },
    {
     "data": {
      "text/html": [
       "<div>\n",
       "<style scoped>\n",
       "    .dataframe tbody tr th:only-of-type {\n",
       "        vertical-align: middle;\n",
       "    }\n",
       "\n",
       "    .dataframe tbody tr th {\n",
       "        vertical-align: top;\n",
       "    }\n",
       "\n",
       "    .dataframe thead th {\n",
       "        text-align: right;\n",
       "    }\n",
       "</style>\n",
       "<table border=\"1\" class=\"dataframe\">\n",
       "  <thead>\n",
       "    <tr style=\"text-align: right;\">\n",
       "      <th></th>\n",
       "      <th>user_id</th>\n",
       "      <th>item_id</th>\n",
       "      <th>recommend</th>\n",
       "      <th>review</th>\n",
       "      <th>year_posted</th>\n",
       "      <th>sentiment_analysis</th>\n",
       "    </tr>\n",
       "  </thead>\n",
       "  <tbody>\n",
       "    <tr>\n",
       "      <th>0</th>\n",
       "      <td>76561197970982479</td>\n",
       "      <td>1250</td>\n",
       "      <td>True</td>\n",
       "      <td>Simple yet with great replayability. In my opi...</td>\n",
       "      <td>2011</td>\n",
       "      <td>1</td>\n",
       "    </tr>\n",
       "    <tr>\n",
       "      <th>1</th>\n",
       "      <td>76561197970982479</td>\n",
       "      <td>22200</td>\n",
       "      <td>True</td>\n",
       "      <td>It's unique and worth a playthrough.</td>\n",
       "      <td>2011</td>\n",
       "      <td>1</td>\n",
       "    </tr>\n",
       "    <tr>\n",
       "      <th>2</th>\n",
       "      <td>76561197970982479</td>\n",
       "      <td>43110</td>\n",
       "      <td>True</td>\n",
       "      <td>Great atmosphere. The gunplay can be a bit chu...</td>\n",
       "      <td>2011</td>\n",
       "      <td>1</td>\n",
       "    </tr>\n",
       "    <tr>\n",
       "      <th>3</th>\n",
       "      <td>js41637</td>\n",
       "      <td>251610</td>\n",
       "      <td>True</td>\n",
       "      <td>I know what you think when you see this title ...</td>\n",
       "      <td>2014</td>\n",
       "      <td>1</td>\n",
       "    </tr>\n",
       "    <tr>\n",
       "      <th>4</th>\n",
       "      <td>js41637</td>\n",
       "      <td>227300</td>\n",
       "      <td>True</td>\n",
       "      <td>For a simple (it's actually not all that simpl...</td>\n",
       "      <td>2013</td>\n",
       "      <td>1</td>\n",
       "    </tr>\n",
       "  </tbody>\n",
       "</table>\n",
       "</div>"
      ],
      "text/plain": [
       "             user_id item_id  recommend  \\\n",
       "0  76561197970982479    1250       True   \n",
       "1  76561197970982479   22200       True   \n",
       "2  76561197970982479   43110       True   \n",
       "3            js41637  251610       True   \n",
       "4            js41637  227300       True   \n",
       "\n",
       "                                              review  year_posted  \\\n",
       "0  Simple yet with great replayability. In my opi...         2011   \n",
       "1               It's unique and worth a playthrough.         2011   \n",
       "2  Great atmosphere. The gunplay can be a bit chu...         2011   \n",
       "3  I know what you think when you see this title ...         2014   \n",
       "4  For a simple (it's actually not all that simpl...         2013   \n",
       "\n",
       "   sentiment_analysis  \n",
       "0                   1  \n",
       "1                   1  \n",
       "2                   1  \n",
       "3                   1  \n",
       "4                   1  "
      ]
     },
     "execution_count": 113,
     "metadata": {},
     "output_type": "execute_result"
    }
   ],
   "source": [
    "df_reviews_recomend = df_reviews.dropna(subset='recommend')\n",
    "df_reviews_recomend.reset_index(drop=True,inplace=True)\n",
    "df_reviews_recomend.info()\n",
    "df_reviews_recomend.head()"
   ]
  },
  {
   "cell_type": "code",
   "execution_count": 114,
   "metadata": {},
   "outputs": [
    {
     "data": {
      "text/html": [
       "<div>\n",
       "<style scoped>\n",
       "    .dataframe tbody tr th:only-of-type {\n",
       "        vertical-align: middle;\n",
       "    }\n",
       "\n",
       "    .dataframe tbody tr th {\n",
       "        vertical-align: top;\n",
       "    }\n",
       "\n",
       "    .dataframe thead th {\n",
       "        text-align: right;\n",
       "    }\n",
       "</style>\n",
       "<table border=\"1\" class=\"dataframe\">\n",
       "  <thead>\n",
       "    <tr style=\"text-align: right;\">\n",
       "      <th></th>\n",
       "      <th>item_id</th>\n",
       "      <th>recommend</th>\n",
       "      <th>year_posted</th>\n",
       "      <th>sentiment_analysis</th>\n",
       "      <th>Recomends_times</th>\n",
       "    </tr>\n",
       "  </thead>\n",
       "  <tbody>\n",
       "    <tr>\n",
       "      <th>26</th>\n",
       "      <td>440</td>\n",
       "      <td>True</td>\n",
       "      <td>2014</td>\n",
       "      <td>1</td>\n",
       "      <td>1536</td>\n",
       "    </tr>\n",
       "    <tr>\n",
       "      <th>38</th>\n",
       "      <td>730</td>\n",
       "      <td>True</td>\n",
       "      <td>2015</td>\n",
       "      <td>1</td>\n",
       "      <td>1502</td>\n",
       "    </tr>\n",
       "    <tr>\n",
       "      <th>19</th>\n",
       "      <td>730</td>\n",
       "      <td>True</td>\n",
       "      <td>2014</td>\n",
       "      <td>1</td>\n",
       "      <td>1055</td>\n",
       "    </tr>\n",
       "    <tr>\n",
       "      <th>71</th>\n",
       "      <td>440</td>\n",
       "      <td>True</td>\n",
       "      <td>2013</td>\n",
       "      <td>1</td>\n",
       "      <td>788</td>\n",
       "    </tr>\n",
       "    <tr>\n",
       "      <th>32</th>\n",
       "      <td>4000</td>\n",
       "      <td>True</td>\n",
       "      <td>2014</td>\n",
       "      <td>1</td>\n",
       "      <td>754</td>\n",
       "    </tr>\n",
       "  </tbody>\n",
       "</table>\n",
       "</div>"
      ],
      "text/plain": [
       "   item_id  recommend  year_posted  sentiment_analysis  Recomends_times\n",
       "26     440       True         2014                   1             1536\n",
       "38     730       True         2015                   1             1502\n",
       "19     730       True         2014                   1             1055\n",
       "71     440       True         2013                   1              788\n",
       "32    4000       True         2014                   1              754"
      ]
     },
     "execution_count": 114,
     "metadata": {},
     "output_type": "execute_result"
    }
   ],
   "source": [
    "df_UsersRecommend = df_reviews_recomend[['item_id','recommend','year_posted','sentiment_analysis']].copy()\n",
    "df_UsersRecommend = df_UsersRecommend[df_UsersRecommend['recommend']]\n",
    "\n",
    "# Separando comentarios positivos y neutrales\n",
    "df_UsersRecommend = df_UsersRecommend[df_UsersRecommend['sentiment_analysis'] >= 1]\n",
    "\n",
    "df_UsersRecommend['Recomends_times'] = df_UsersRecommend.groupby(['item_id','year_posted'])['item_id'].transform('count')\n",
    "df_UsersRecommend.drop_duplicates(subset=['item_id','year_posted','Recomends_times'],inplace=True)\n",
    "df_UsersRecommend.reset_index(drop=True,inplace=True)\n",
    "df_UsersRecommend.sort_values(by='Recomends_times',ascending=False,inplace=True)\n",
    "\n",
    "df_UsersRecommend.head()\n"
   ]
  },
  {
   "cell_type": "code",
   "execution_count": 115,
   "metadata": {},
   "outputs": [],
   "source": [
    "# Funcion de consulta\n",
    "def UsersRecommend(anio):\n",
    "    top_recomend = df_UsersRecommend[df_UsersRecommend['year_posted'] == anio]\n",
    "    top_recomend.reset_index(drop = True,inplace = True)\n",
    "    return str('Items_id Puesto 1: '+ top_recomend['item_id'][0] + ' Puesto 2: '+ top_recomend['item_id'][1] + ' Puesto 3: '+ top_recomend['item_id'][2])"
   ]
  },
  {
   "cell_type": "code",
   "execution_count": 116,
   "metadata": {},
   "outputs": [],
   "source": [
    "top_recomend = UsersRecommend(2014)"
   ]
  },
  {
   "cell_type": "code",
   "execution_count": 117,
   "metadata": {},
   "outputs": [
    {
     "data": {
      "text/plain": [
       "'Items_id Puesto 1: 440 Puesto 2: 730 Puesto 3: 4000'"
      ]
     },
     "execution_count": 117,
     "metadata": {},
     "output_type": "execute_result"
    }
   ],
   "source": [
    "top_recomend"
   ]
  },
  {
   "cell_type": "markdown",
   "metadata": {},
   "source": [
    "<b>UsersNotRecommend:</b>       \n",
    "\n",
    "Devuelve el top 3 de juegos MENOS recomendados por usuarios para el año dado. (reviews.recommend = False y comentarios negativos)"
   ]
  },
  {
   "cell_type": "code",
   "execution_count": 118,
   "metadata": {},
   "outputs": [
    {
     "data": {
      "text/html": [
       "<div>\n",
       "<style scoped>\n",
       "    .dataframe tbody tr th:only-of-type {\n",
       "        vertical-align: middle;\n",
       "    }\n",
       "\n",
       "    .dataframe tbody tr th {\n",
       "        vertical-align: top;\n",
       "    }\n",
       "\n",
       "    .dataframe thead th {\n",
       "        text-align: right;\n",
       "    }\n",
       "</style>\n",
       "<table border=\"1\" class=\"dataframe\">\n",
       "  <thead>\n",
       "    <tr style=\"text-align: right;\">\n",
       "      <th></th>\n",
       "      <th>item_id</th>\n",
       "      <th>recommend</th>\n",
       "      <th>year_posted</th>\n",
       "      <th>sentiment_analysis</th>\n",
       "      <th>Recomends_times</th>\n",
       "    </tr>\n",
       "  </thead>\n",
       "  <tbody>\n",
       "    <tr>\n",
       "      <th>234</th>\n",
       "      <td>305920</td>\n",
       "      <td>False</td>\n",
       "      <td>2015</td>\n",
       "      <td>0</td>\n",
       "      <td>1</td>\n",
       "    </tr>\n",
       "    <tr>\n",
       "      <th>200</th>\n",
       "      <td>208730</td>\n",
       "      <td>False</td>\n",
       "      <td>2015</td>\n",
       "      <td>0</td>\n",
       "      <td>1</td>\n",
       "    </tr>\n",
       "    <tr>\n",
       "      <th>123</th>\n",
       "      <td>2870</td>\n",
       "      <td>False</td>\n",
       "      <td>2014</td>\n",
       "      <td>0</td>\n",
       "      <td>1</td>\n",
       "    </tr>\n",
       "    <tr>\n",
       "      <th>124</th>\n",
       "      <td>331440</td>\n",
       "      <td>False</td>\n",
       "      <td>2015</td>\n",
       "      <td>0</td>\n",
       "      <td>1</td>\n",
       "    </tr>\n",
       "    <tr>\n",
       "      <th>125</th>\n",
       "      <td>42680</td>\n",
       "      <td>False</td>\n",
       "      <td>2014</td>\n",
       "      <td>0</td>\n",
       "      <td>1</td>\n",
       "    </tr>\n",
       "    <tr>\n",
       "      <th>...</th>\n",
       "      <td>...</td>\n",
       "      <td>...</td>\n",
       "      <td>...</td>\n",
       "      <td>...</td>\n",
       "      <td>...</td>\n",
       "    </tr>\n",
       "    <tr>\n",
       "      <th>9</th>\n",
       "      <td>51100</td>\n",
       "      <td>False</td>\n",
       "      <td>2014</td>\n",
       "      <td>0</td>\n",
       "      <td>6</td>\n",
       "    </tr>\n",
       "    <tr>\n",
       "      <th>46</th>\n",
       "      <td>304930</td>\n",
       "      <td>False</td>\n",
       "      <td>2015</td>\n",
       "      <td>0</td>\n",
       "      <td>7</td>\n",
       "    </tr>\n",
       "    <tr>\n",
       "      <th>36</th>\n",
       "      <td>218620</td>\n",
       "      <td>False</td>\n",
       "      <td>2015</td>\n",
       "      <td>0</td>\n",
       "      <td>8</td>\n",
       "    </tr>\n",
       "    <tr>\n",
       "      <th>75</th>\n",
       "      <td>730</td>\n",
       "      <td>False</td>\n",
       "      <td>2015</td>\n",
       "      <td>0</td>\n",
       "      <td>9</td>\n",
       "    </tr>\n",
       "    <tr>\n",
       "      <th>6</th>\n",
       "      <td>221100</td>\n",
       "      <td>False</td>\n",
       "      <td>2015</td>\n",
       "      <td>0</td>\n",
       "      <td>9</td>\n",
       "    </tr>\n",
       "  </tbody>\n",
       "</table>\n",
       "<p>235 rows × 5 columns</p>\n",
       "</div>"
      ],
      "text/plain": [
       "    item_id  recommend  year_posted  sentiment_analysis  Recomends_times\n",
       "234  305920      False         2015                   0                1\n",
       "200  208730      False         2015                   0                1\n",
       "123    2870      False         2014                   0                1\n",
       "124  331440      False         2015                   0                1\n",
       "125   42680      False         2014                   0                1\n",
       "..      ...        ...          ...                 ...              ...\n",
       "9     51100      False         2014                   0                6\n",
       "46   304930      False         2015                   0                7\n",
       "36   218620      False         2015                   0                8\n",
       "75      730      False         2015                   0                9\n",
       "6    221100      False         2015                   0                9\n",
       "\n",
       "[235 rows x 5 columns]"
      ]
     },
     "execution_count": 118,
     "metadata": {},
     "output_type": "execute_result"
    }
   ],
   "source": [
    "df_UsersNotRecommend = df_reviews_recomend[['item_id','recommend','year_posted','sentiment_analysis']].copy()\n",
    "df_UsersNotRecommend = df_UsersNotRecommend[df_UsersNotRecommend['recommend'] == 0]\n",
    "\n",
    "# Separando comentarios negativos\n",
    "df_UsersNotRecommend = df_UsersNotRecommend[df_UsersNotRecommend['sentiment_analysis'] == 0]\n",
    "\n",
    "df_UsersNotRecommend['Recomends_times'] = df_UsersNotRecommend.groupby(['item_id','year_posted'])['item_id'].transform('count')\n",
    "df_UsersNotRecommend.drop_duplicates(subset=['item_id','year_posted','Recomends_times'],inplace=True)\n",
    "df_UsersNotRecommend.reset_index(drop=True,inplace=True)\n",
    "df_UsersNotRecommend.sort_values(by='Recomends_times',ascending=True,inplace=True)\n",
    "df_UsersNotRecommend"
   ]
  },
  {
   "cell_type": "code",
   "execution_count": 119,
   "metadata": {},
   "outputs": [],
   "source": [
    "# Funcion de consulta\n",
    "def UsersNotRecommend(anio):\n",
    "    top_not_recomend = df_UsersNotRecommend[df_UsersNotRecommend['year_posted'] == anio]\n",
    "    top_not_recomend.reset_index(drop = True,inplace = True)\n",
    "    return str('Items_id Puesto 1: '+ top_not_recomend['item_id'][0] + ' Puesto 2: '+ top_not_recomend['item_id'][1] + ' Puesto 3: '+ top_not_recomend['item_id'][2])"
   ]
  },
  {
   "cell_type": "code",
   "execution_count": 120,
   "metadata": {},
   "outputs": [
    {
     "data": {
      "text/plain": [
       "'Items_id Puesto 1: 2870 Puesto 2: 42680 Puesto 3: 332070'"
      ]
     },
     "execution_count": 120,
     "metadata": {},
     "output_type": "execute_result"
    }
   ],
   "source": [
    "UsersNotRecommend(2014)"
   ]
  },
  {
   "cell_type": "markdown",
   "metadata": {},
   "source": [
    "<b>sentiment_analysis:</b>       \n",
    "\n",
    "Según el año de lanzamiento, se devuelve una lista con la cantidad de registros de reseñas de usuarios que se encuentren categorizados con un análisis de sentimiento."
   ]
  },
  {
   "cell_type": "code",
   "execution_count": 121,
   "metadata": {},
   "outputs": [
    {
     "data": {
      "text/html": [
       "<div>\n",
       "<style scoped>\n",
       "    .dataframe tbody tr th:only-of-type {\n",
       "        vertical-align: middle;\n",
       "    }\n",
       "\n",
       "    .dataframe tbody tr th {\n",
       "        vertical-align: top;\n",
       "    }\n",
       "\n",
       "    .dataframe thead th {\n",
       "        text-align: right;\n",
       "    }\n",
       "</style>\n",
       "<table border=\"1\" class=\"dataframe\">\n",
       "  <thead>\n",
       "    <tr style=\"text-align: right;\">\n",
       "      <th></th>\n",
       "      <th>user_id</th>\n",
       "      <th>item_id</th>\n",
       "      <th>recommend</th>\n",
       "      <th>review</th>\n",
       "      <th>year_posted</th>\n",
       "      <th>sentiment_analysis</th>\n",
       "    </tr>\n",
       "  </thead>\n",
       "  <tbody>\n",
       "    <tr>\n",
       "      <th>0</th>\n",
       "      <td>76561197970982479</td>\n",
       "      <td>1250</td>\n",
       "      <td>True</td>\n",
       "      <td>Simple yet with great replayability. In my opi...</td>\n",
       "      <td>2011</td>\n",
       "      <td>1</td>\n",
       "    </tr>\n",
       "    <tr>\n",
       "      <th>1</th>\n",
       "      <td>76561197970982479</td>\n",
       "      <td>22200</td>\n",
       "      <td>True</td>\n",
       "      <td>It's unique and worth a playthrough.</td>\n",
       "      <td>2011</td>\n",
       "      <td>1</td>\n",
       "    </tr>\n",
       "    <tr>\n",
       "      <th>2</th>\n",
       "      <td>76561197970982479</td>\n",
       "      <td>43110</td>\n",
       "      <td>True</td>\n",
       "      <td>Great atmosphere. The gunplay can be a bit chu...</td>\n",
       "      <td>2011</td>\n",
       "      <td>1</td>\n",
       "    </tr>\n",
       "    <tr>\n",
       "      <th>3</th>\n",
       "      <td>js41637</td>\n",
       "      <td>251610</td>\n",
       "      <td>True</td>\n",
       "      <td>I know what you think when you see this title ...</td>\n",
       "      <td>2014</td>\n",
       "      <td>1</td>\n",
       "    </tr>\n",
       "    <tr>\n",
       "      <th>4</th>\n",
       "      <td>js41637</td>\n",
       "      <td>227300</td>\n",
       "      <td>True</td>\n",
       "      <td>For a simple (it's actually not all that simpl...</td>\n",
       "      <td>2013</td>\n",
       "      <td>1</td>\n",
       "    </tr>\n",
       "  </tbody>\n",
       "</table>\n",
       "</div>"
      ],
      "text/plain": [
       "             user_id item_id  recommend  \\\n",
       "0  76561197970982479    1250       True   \n",
       "1  76561197970982479   22200       True   \n",
       "2  76561197970982479   43110       True   \n",
       "3            js41637  251610       True   \n",
       "4            js41637  227300       True   \n",
       "\n",
       "                                              review  year_posted  \\\n",
       "0  Simple yet with great replayability. In my opi...         2011   \n",
       "1               It's unique and worth a playthrough.         2011   \n",
       "2  Great atmosphere. The gunplay can be a bit chu...         2011   \n",
       "3  I know what you think when you see this title ...         2014   \n",
       "4  For a simple (it's actually not all that simpl...         2013   \n",
       "\n",
       "   sentiment_analysis  \n",
       "0                   1  \n",
       "1                   1  \n",
       "2                   1  \n",
       "3                   1  \n",
       "4                   1  "
      ]
     },
     "execution_count": 121,
     "metadata": {},
     "output_type": "execute_result"
    }
   ],
   "source": [
    "df_reviews.head()"
   ]
  },
  {
   "cell_type": "code",
   "execution_count": 122,
   "metadata": {},
   "outputs": [],
   "source": [
    "df_SentimentRecommend = df_reviews[['item_id','year_posted','sentiment_analysis']].copy()\n",
    "\n",
    "# Agrupando por 'year_posted','sentiment_analysis' y contando la cantidad de datos\n",
    "df_SentimentRecommend['Recomends_times'] = df_SentimentRecommend.groupby(['item_id','year_posted','sentiment_analysis'])['year_posted'].transform('count')\n",
    "df_SentimentRecommend.drop_duplicates(subset=['item_id','year_posted','sentiment_analysis'],inplace=True)\n",
    "df_SentimentRecommend.sort_values(by='sentiment_analysis',ascending=True,inplace=True)\n",
    "df_SentimentRecommend.reset_index(drop=True,inplace=True)\n"
   ]
  },
  {
   "cell_type": "code",
   "execution_count": 123,
   "metadata": {},
   "outputs": [
    {
     "data": {
      "text/html": [
       "<div>\n",
       "<style scoped>\n",
       "    .dataframe tbody tr th:only-of-type {\n",
       "        vertical-align: middle;\n",
       "    }\n",
       "\n",
       "    .dataframe tbody tr th {\n",
       "        vertical-align: top;\n",
       "    }\n",
       "\n",
       "    .dataframe thead th {\n",
       "        text-align: right;\n",
       "    }\n",
       "</style>\n",
       "<table border=\"1\" class=\"dataframe\">\n",
       "  <thead>\n",
       "    <tr style=\"text-align: right;\">\n",
       "      <th></th>\n",
       "      <th>item_id</th>\n",
       "      <th>year_posted</th>\n",
       "      <th>sentiment_analysis</th>\n",
       "      <th>Recomends_times</th>\n",
       "    </tr>\n",
       "  </thead>\n",
       "  <tbody>\n",
       "    <tr>\n",
       "      <th>0</th>\n",
       "      <td>12210</td>\n",
       "      <td>2014</td>\n",
       "      <td>Negative</td>\n",
       "      <td>3</td>\n",
       "    </tr>\n",
       "    <tr>\n",
       "      <th>1</th>\n",
       "      <td>630</td>\n",
       "      <td>2013</td>\n",
       "      <td>Negative</td>\n",
       "      <td>1</td>\n",
       "    </tr>\n",
       "    <tr>\n",
       "      <th>2</th>\n",
       "      <td>33950</td>\n",
       "      <td>2014</td>\n",
       "      <td>Negative</td>\n",
       "      <td>1</td>\n",
       "    </tr>\n",
       "    <tr>\n",
       "      <th>3</th>\n",
       "      <td>204080</td>\n",
       "      <td>2014</td>\n",
       "      <td>Negative</td>\n",
       "      <td>1</td>\n",
       "    </tr>\n",
       "    <tr>\n",
       "      <th>4</th>\n",
       "      <td>322920</td>\n",
       "      <td>2015</td>\n",
       "      <td>Negative</td>\n",
       "      <td>1</td>\n",
       "    </tr>\n",
       "    <tr>\n",
       "      <th>...</th>\n",
       "      <td>...</td>\n",
       "      <td>...</td>\n",
       "      <td>...</td>\n",
       "      <td>...</td>\n",
       "    </tr>\n",
       "    <tr>\n",
       "      <th>6875</th>\n",
       "      <td>221430</td>\n",
       "      <td>2013</td>\n",
       "      <td>Positive</td>\n",
       "      <td>1</td>\n",
       "    </tr>\n",
       "    <tr>\n",
       "      <th>6876</th>\n",
       "      <td>10</td>\n",
       "      <td>2012</td>\n",
       "      <td>Positive</td>\n",
       "      <td>2</td>\n",
       "    </tr>\n",
       "    <tr>\n",
       "      <th>6877</th>\n",
       "      <td>49540</td>\n",
       "      <td>2013</td>\n",
       "      <td>Positive</td>\n",
       "      <td>1</td>\n",
       "    </tr>\n",
       "    <tr>\n",
       "      <th>6878</th>\n",
       "      <td>42719</td>\n",
       "      <td>2014</td>\n",
       "      <td>Positive</td>\n",
       "      <td>1</td>\n",
       "    </tr>\n",
       "    <tr>\n",
       "      <th>6879</th>\n",
       "      <td>230410</td>\n",
       "      <td>2013</td>\n",
       "      <td>Positive</td>\n",
       "      <td>32</td>\n",
       "    </tr>\n",
       "  </tbody>\n",
       "</table>\n",
       "<p>6880 rows × 4 columns</p>\n",
       "</div>"
      ],
      "text/plain": [
       "     item_id  year_posted sentiment_analysis  Recomends_times\n",
       "0      12210         2014           Negative                3\n",
       "1        630         2013           Negative                1\n",
       "2      33950         2014           Negative                1\n",
       "3     204080         2014           Negative                1\n",
       "4     322920         2015           Negative                1\n",
       "...      ...          ...                ...              ...\n",
       "6875  221430         2013           Positive                1\n",
       "6876      10         2012           Positive                2\n",
       "6877   49540         2013           Positive                1\n",
       "6878   42719         2014           Positive                1\n",
       "6879  230410         2013           Positive               32\n",
       "\n",
       "[6880 rows x 4 columns]"
      ]
     },
     "execution_count": 123,
     "metadata": {},
     "output_type": "execute_result"
    }
   ],
   "source": [
    "# Cambiando contenido de sentiment_analysis\n",
    "df_SentimentRecommend['sentiment_analysis'].replace(0,'Negative',inplace=True)\n",
    "df_SentimentRecommend['sentiment_analysis'].replace(1,'Neutral',inplace=True)\n",
    "df_SentimentRecommend['sentiment_analysis'].replace(2,'Positive',inplace=True)\n",
    "\n",
    "df_SentimentRecommend"
   ]
  },
  {
   "cell_type": "code",
   "execution_count": 124,
   "metadata": {},
   "outputs": [
    {
     "name": "stdout",
     "output_type": "stream",
     "text": [
      "<class 'pandas.core.frame.DataFrame'>\n",
      "RangeIndex: 6880 entries, 0 to 6879\n",
      "Data columns (total 4 columns):\n",
      " #   Column              Non-Null Count  Dtype \n",
      "---  ------              --------------  ----- \n",
      " 0   item_id             6880 non-null   object\n",
      " 1   year_posted         6880 non-null   int64 \n",
      " 2   sentiment_analysis  6880 non-null   object\n",
      " 3   Recomends_times     6880 non-null   int64 \n",
      "dtypes: int64(2), object(2)\n",
      "memory usage: 215.1+ KB\n"
     ]
    }
   ],
   "source": [
    "df_SentimentRecommend.info()"
   ]
  },
  {
   "cell_type": "code",
   "execution_count": 125,
   "metadata": {},
   "outputs": [
    {
     "data": {
      "text/plain": [
       "item_id               2374\n",
       "year_posted           2374\n",
       "sentiment_analysis    2374\n",
       "Recomends_times       2374\n",
       "dtype: int64"
      ]
     },
     "execution_count": 125,
     "metadata": {},
     "output_type": "execute_result"
    }
   ],
   "source": [
    "anio = 2014\n",
    "analisis_sentimiento = df_SentimentRecommend[df_SentimentRecommend['year_posted'] == anio]\n",
    "analisis_sentimiento.count()"
   ]
  },
  {
   "cell_type": "code",
   "execution_count": 126,
   "metadata": {},
   "outputs": [],
   "source": [
    "def sentiment_analysis(anio):\n",
    "    analisis_sentimiento = df_SentimentRecommend[df_SentimentRecommend['year_posted'] == anio]\n",
    "\n",
    "    return print('Negative: ', analisis_sentimiento['sentiment_analysis'][analisis_sentimiento['sentiment_analysis'] == 'Negative'].count(),\n",
    "                 'Neutral: ', analisis_sentimiento['sentiment_analysis'][analisis_sentimiento['sentiment_analysis'] == 'Neutral'].count(),\n",
    "                 'Positive: ', analisis_sentimiento['sentiment_analysis'][analisis_sentimiento['sentiment_analysis'] == 'Positive'].count())"
   ]
  },
  {
   "cell_type": "code",
   "execution_count": 127,
   "metadata": {},
   "outputs": [
    {
     "name": "stdout",
     "output_type": "stream",
     "text": [
      "Negative:  223 Neutral:  1512 Positive:  639\n"
     ]
    }
   ],
   "source": [
    "sentiment_analysis(2014)"
   ]
  },
  {
   "cell_type": "markdown",
   "metadata": {},
   "source": [
    "<b>Guardar dataframes para Funciones</b>"
   ]
  },
  {
   "cell_type": "code",
   "execution_count": 128,
   "metadata": {},
   "outputs": [],
   "source": [
    "df_PlayTimeGenre.to_parquet('..\\\\Funciones\\\\datasets\\\\PlayTimeGenre.parquet',index=False)\n",
    "df_UserForGenre_Total.to_parquet('..\\\\Funciones\\\\datasets\\\\UserForGenre_total.parquet',index=False)\n",
    "df_UserForGenre.to_parquet('..\\\\Funciones\\\\datasets\\\\UserForGenre.parquet',index=False)\n",
    "df_UsersRecommend.to_parquet('..\\\\Funciones\\\\datasets\\\\UsersRecommend.parquet',index=False)\n",
    "df_UsersNotRecommend.to_parquet('..\\\\Funciones\\\\datasets\\\\UsersNotRecommend.parquet',index=False)\n",
    "df_SentimentRecommend.to_parquet('..\\\\Funciones\\\\datasets\\\\SentimentRecommend.parquet',index=False)"
   ]
  }
 ],
 "metadata": {
  "kernelspec": {
   "display_name": "Python 3",
   "language": "python",
   "name": "python3"
  },
  "language_info": {
   "codemirror_mode": {
    "name": "ipython",
    "version": 3
   },
   "file_extension": ".py",
   "mimetype": "text/x-python",
   "name": "python",
   "nbconvert_exporter": "python",
   "pygments_lexer": "ipython3",
   "version": "3.11.5"
  }
 },
 "nbformat": 4,
 "nbformat_minor": 2
}
